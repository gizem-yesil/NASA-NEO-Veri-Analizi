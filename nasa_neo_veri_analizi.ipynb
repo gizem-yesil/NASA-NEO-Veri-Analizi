{
 "cells": [
  {
   "cell_type": "markdown",
   "id": "1d4634c3",
   "metadata": {
    "execution": {
     "iopub.execute_input": "2024-11-19T22:44:18.459568Z",
     "iopub.status.busy": "2024-11-19T22:44:18.459149Z",
     "iopub.status.idle": "2024-11-19T22:44:18.464201Z",
     "shell.execute_reply": "2024-11-19T22:44:18.463076Z",
     "shell.execute_reply.started": "2024-11-19T22:44:18.459511Z"
    },
    "papermill": {
     "duration": 0.023573,
     "end_time": "2024-11-23T15:50:21.612516",
     "exception": false,
     "start_time": "2024-11-23T15:50:21.588943",
     "status": "completed"
    },
    "tags": []
   },
   "source": [
    "# **GLOBAL AI HUB - AYGAZ VERİ ANALİZİ BOOTCAMP PROJESİ**"
   ]
  },
  {
   "cell_type": "markdown",
   "id": "1d478e3e",
   "metadata": {
    "papermill": {
     "duration": 0.019564,
     "end_time": "2024-11-23T15:50:21.652158",
     "exception": false,
     "start_time": "2024-11-23T15:50:21.632594",
     "status": "completed"
    },
    "tags": []
   },
   "source": [
    "#   **1.Veri Setinin Hazırlanması**"
   ]
  },
  {
   "cell_type": "markdown",
   "id": "824bd04c",
   "metadata": {
    "papermill": {
     "duration": 0.019628,
     "end_time": "2024-11-23T15:50:21.692250",
     "exception": false,
     "start_time": "2024-11-23T15:50:21.672622",
     "status": "completed"
    },
    "tags": []
   },
   "source": [
    "\n",
    "\n",
    "**Veri Seti:**\n",
    "\n",
    "NASA-Nearest Earth Objects:\n",
    "https://www.kaggle.com/datasets/sameepvani/nasa-nearest-earth-objects/data\n",
    "\n",
    "Veri seti, NASA'nın, Dünya'ya yakın gök cisimlerini incelemek amacıyla kurulan \"Center for NEO Studies (CNEOS)\"dan alınan asteroid verileriyle oluşturulmuştur.\n",
    "\n",
    "Sütunlar:\n",
    "\n",
    "* **id:** Asteroid için tanımlayıcı bir id.\n",
    "* **name:** NASA tarafından asteroide verilen isim.\n",
    "* **est_diameter_min:** Tahmini minimum çap (km).\n",
    "* **est_diameter_min:** Tahmini maksimum çap (km).\n",
    "* **relative_velocity:** Cismin göreceli hızı (Dünya'ya göre,km/s).\n",
    "* **miss_distance:** Dünya ile minimum yaklaşma mesafesi (km).\n",
    "* **orbiting_body:** Gök cisminin yörüngesinde bulunduğu diğer bir cisim.\n",
    "* **sentry_object:** Cismin Sentry sistemi tarafından izlenip izlenmediği bilgisi.\n",
    "* **absolute_magnitude:** Cismin parlaklığı.\n",
    "* **hazardous:** Cismin potansiyel olarak tehlikeli olarak sınıflandırılıp sınıflandırılmadığı bilgisi.\n"
   ]
  },
  {
   "cell_type": "markdown",
   "id": "ea189004",
   "metadata": {
    "papermill": {
     "duration": 0.019416,
     "end_time": "2024-11-23T15:50:21.731313",
     "exception": false,
     "start_time": "2024-11-23T15:50:21.711897",
     "status": "completed"
    },
    "tags": []
   },
   "source": [
    "![](http://cneos.jpl.nasa.gov/images/cneos_banner.png)"
   ]
  },
  {
   "cell_type": "code",
   "execution_count": 1,
   "id": "747116da",
   "metadata": {
    "execution": {
     "iopub.execute_input": "2024-11-23T15:50:21.772092Z",
     "iopub.status.busy": "2024-11-23T15:50:21.771677Z",
     "iopub.status.idle": "2024-11-23T15:50:24.192913Z",
     "shell.execute_reply": "2024-11-23T15:50:24.191918Z"
    },
    "papermill": {
     "duration": 2.44467,
     "end_time": "2024-11-23T15:50:24.195409",
     "exception": false,
     "start_time": "2024-11-23T15:50:21.750739",
     "status": "completed"
    },
    "tags": []
   },
   "outputs": [],
   "source": [
    "#Gerekli kütüphanelerin yüklenmesi\n",
    "import pandas as pd\n",
    "import numpy as np\n",
    "import matplotlib.pyplot as plt\n",
    "import seaborn as sns\n",
    "\n",
    "import warnings\n",
    "warnings.filterwarnings(\"ignore\")\n",
    "\n"
   ]
  },
  {
   "cell_type": "code",
   "execution_count": 2,
   "id": "4fc80e85",
   "metadata": {
    "execution": {
     "iopub.execute_input": "2024-11-23T15:50:24.237839Z",
     "iopub.status.busy": "2024-11-23T15:50:24.237209Z",
     "iopub.status.idle": "2024-11-23T15:50:24.545950Z",
     "shell.execute_reply": "2024-11-23T15:50:24.544794Z"
    },
    "papermill": {
     "duration": 0.333395,
     "end_time": "2024-11-23T15:50:24.548999",
     "exception": false,
     "start_time": "2024-11-23T15:50:24.215604",
     "status": "completed"
    },
    "tags": []
   },
   "outputs": [],
   "source": [
    "#Csv dosyasını okumak için pandas kütüphanesine ait fonksiyonu kullanalım.\n",
    "#Öncelikle bir dataframe oluşturalım.\n",
    "df_= pd.read_csv('/kaggle/input/nasa-nearest-earth-objects/neo_v2.csv')\n",
    "\n",
    "#Bir sorun olması ihtimaline karşın verimizin kopyasını alıp kullanıyoruz.\n",
    "df_c=df_.copy()\n"
   ]
  },
  {
   "cell_type": "markdown",
   "id": "774218b5",
   "metadata": {
    "papermill": {
     "duration": 0.035303,
     "end_time": "2024-11-23T15:50:24.621337",
     "exception": false,
     "start_time": "2024-11-23T15:50:24.586034",
     "status": "completed"
    },
    "tags": []
   },
   "source": [
    "#   **2.Veri Setinin İncelenmesi** "
   ]
  },
  {
   "cell_type": "code",
   "execution_count": 3,
   "id": "c8de7620",
   "metadata": {
    "execution": {
     "iopub.execute_input": "2024-11-23T15:50:24.669772Z",
     "iopub.status.busy": "2024-11-23T15:50:24.668861Z",
     "iopub.status.idle": "2024-11-23T15:50:24.696383Z",
     "shell.execute_reply": "2024-11-23T15:50:24.695196Z"
    },
    "papermill": {
     "duration": 0.051223,
     "end_time": "2024-11-23T15:50:24.698616",
     "exception": false,
     "start_time": "2024-11-23T15:50:24.647393",
     "status": "completed"
    },
    "tags": []
   },
   "outputs": [
    {
     "data": {
      "text/html": [
       "<div>\n",
       "<style scoped>\n",
       "    .dataframe tbody tr th:only-of-type {\n",
       "        vertical-align: middle;\n",
       "    }\n",
       "\n",
       "    .dataframe tbody tr th {\n",
       "        vertical-align: top;\n",
       "    }\n",
       "\n",
       "    .dataframe thead th {\n",
       "        text-align: right;\n",
       "    }\n",
       "</style>\n",
       "<table border=\"1\" class=\"dataframe\">\n",
       "  <thead>\n",
       "    <tr style=\"text-align: right;\">\n",
       "      <th></th>\n",
       "      <th>id</th>\n",
       "      <th>name</th>\n",
       "      <th>est_diameter_min</th>\n",
       "      <th>est_diameter_max</th>\n",
       "      <th>relative_velocity</th>\n",
       "      <th>miss_distance</th>\n",
       "      <th>orbiting_body</th>\n",
       "      <th>sentry_object</th>\n",
       "      <th>absolute_magnitude</th>\n",
       "      <th>hazardous</th>\n",
       "    </tr>\n",
       "  </thead>\n",
       "  <tbody>\n",
       "    <tr>\n",
       "      <th>0</th>\n",
       "      <td>2162635</td>\n",
       "      <td>162635 (2000 SS164)</td>\n",
       "      <td>1.198271</td>\n",
       "      <td>2.679415</td>\n",
       "      <td>13569.249224</td>\n",
       "      <td>5.483974e+07</td>\n",
       "      <td>Earth</td>\n",
       "      <td>False</td>\n",
       "      <td>16.73</td>\n",
       "      <td>False</td>\n",
       "    </tr>\n",
       "    <tr>\n",
       "      <th>1</th>\n",
       "      <td>2277475</td>\n",
       "      <td>277475 (2005 WK4)</td>\n",
       "      <td>0.265800</td>\n",
       "      <td>0.594347</td>\n",
       "      <td>73588.726663</td>\n",
       "      <td>6.143813e+07</td>\n",
       "      <td>Earth</td>\n",
       "      <td>False</td>\n",
       "      <td>20.00</td>\n",
       "      <td>True</td>\n",
       "    </tr>\n",
       "    <tr>\n",
       "      <th>2</th>\n",
       "      <td>2512244</td>\n",
       "      <td>512244 (2015 YE18)</td>\n",
       "      <td>0.722030</td>\n",
       "      <td>1.614507</td>\n",
       "      <td>114258.692129</td>\n",
       "      <td>4.979872e+07</td>\n",
       "      <td>Earth</td>\n",
       "      <td>False</td>\n",
       "      <td>17.83</td>\n",
       "      <td>False</td>\n",
       "    </tr>\n",
       "    <tr>\n",
       "      <th>3</th>\n",
       "      <td>3596030</td>\n",
       "      <td>(2012 BV13)</td>\n",
       "      <td>0.096506</td>\n",
       "      <td>0.215794</td>\n",
       "      <td>24764.303138</td>\n",
       "      <td>2.543497e+07</td>\n",
       "      <td>Earth</td>\n",
       "      <td>False</td>\n",
       "      <td>22.20</td>\n",
       "      <td>False</td>\n",
       "    </tr>\n",
       "    <tr>\n",
       "      <th>4</th>\n",
       "      <td>3667127</td>\n",
       "      <td>(2014 GE35)</td>\n",
       "      <td>0.255009</td>\n",
       "      <td>0.570217</td>\n",
       "      <td>42737.733765</td>\n",
       "      <td>4.627557e+07</td>\n",
       "      <td>Earth</td>\n",
       "      <td>False</td>\n",
       "      <td>20.09</td>\n",
       "      <td>True</td>\n",
       "    </tr>\n",
       "    <tr>\n",
       "      <th>5</th>\n",
       "      <td>54138696</td>\n",
       "      <td>(2021 GY23)</td>\n",
       "      <td>0.036354</td>\n",
       "      <td>0.081291</td>\n",
       "      <td>34297.587778</td>\n",
       "      <td>4.058569e+07</td>\n",
       "      <td>Earth</td>\n",
       "      <td>False</td>\n",
       "      <td>24.32</td>\n",
       "      <td>False</td>\n",
       "    </tr>\n",
       "    <tr>\n",
       "      <th>6</th>\n",
       "      <td>54189957</td>\n",
       "      <td>(2021 PY40)</td>\n",
       "      <td>0.171615</td>\n",
       "      <td>0.383743</td>\n",
       "      <td>27529.472307</td>\n",
       "      <td>2.906912e+07</td>\n",
       "      <td>Earth</td>\n",
       "      <td>False</td>\n",
       "      <td>20.95</td>\n",
       "      <td>False</td>\n",
       "    </tr>\n",
       "    <tr>\n",
       "      <th>7</th>\n",
       "      <td>54230078</td>\n",
       "      <td>(2021 XD6)</td>\n",
       "      <td>0.005328</td>\n",
       "      <td>0.011914</td>\n",
       "      <td>57544.470083</td>\n",
       "      <td>5.511502e+07</td>\n",
       "      <td>Earth</td>\n",
       "      <td>False</td>\n",
       "      <td>28.49</td>\n",
       "      <td>False</td>\n",
       "    </tr>\n",
       "    <tr>\n",
       "      <th>8</th>\n",
       "      <td>2088213</td>\n",
       "      <td>88213 (2001 AF2)</td>\n",
       "      <td>0.350393</td>\n",
       "      <td>0.783502</td>\n",
       "      <td>56625.210122</td>\n",
       "      <td>6.903598e+07</td>\n",
       "      <td>Earth</td>\n",
       "      <td>False</td>\n",
       "      <td>19.40</td>\n",
       "      <td>False</td>\n",
       "    </tr>\n",
       "    <tr>\n",
       "      <th>9</th>\n",
       "      <td>3766065</td>\n",
       "      <td>(2016 YM)</td>\n",
       "      <td>0.105817</td>\n",
       "      <td>0.236614</td>\n",
       "      <td>48425.840329</td>\n",
       "      <td>3.835526e+07</td>\n",
       "      <td>Earth</td>\n",
       "      <td>False</td>\n",
       "      <td>22.00</td>\n",
       "      <td>False</td>\n",
       "    </tr>\n",
       "  </tbody>\n",
       "</table>\n",
       "</div>"
      ],
      "text/plain": [
       "         id                 name  est_diameter_min  est_diameter_max  \\\n",
       "0   2162635  162635 (2000 SS164)          1.198271          2.679415   \n",
       "1   2277475    277475 (2005 WK4)          0.265800          0.594347   \n",
       "2   2512244   512244 (2015 YE18)          0.722030          1.614507   \n",
       "3   3596030          (2012 BV13)          0.096506          0.215794   \n",
       "4   3667127          (2014 GE35)          0.255009          0.570217   \n",
       "5  54138696          (2021 GY23)          0.036354          0.081291   \n",
       "6  54189957          (2021 PY40)          0.171615          0.383743   \n",
       "7  54230078           (2021 XD6)          0.005328          0.011914   \n",
       "8   2088213     88213 (2001 AF2)          0.350393          0.783502   \n",
       "9   3766065            (2016 YM)          0.105817          0.236614   \n",
       "\n",
       "   relative_velocity  miss_distance orbiting_body  sentry_object  \\\n",
       "0       13569.249224   5.483974e+07         Earth          False   \n",
       "1       73588.726663   6.143813e+07         Earth          False   \n",
       "2      114258.692129   4.979872e+07         Earth          False   \n",
       "3       24764.303138   2.543497e+07         Earth          False   \n",
       "4       42737.733765   4.627557e+07         Earth          False   \n",
       "5       34297.587778   4.058569e+07         Earth          False   \n",
       "6       27529.472307   2.906912e+07         Earth          False   \n",
       "7       57544.470083   5.511502e+07         Earth          False   \n",
       "8       56625.210122   6.903598e+07         Earth          False   \n",
       "9       48425.840329   3.835526e+07         Earth          False   \n",
       "\n",
       "   absolute_magnitude  hazardous  \n",
       "0               16.73      False  \n",
       "1               20.00       True  \n",
       "2               17.83      False  \n",
       "3               22.20      False  \n",
       "4               20.09       True  \n",
       "5               24.32      False  \n",
       "6               20.95      False  \n",
       "7               28.49      False  \n",
       "8               19.40      False  \n",
       "9               22.00      False  "
      ]
     },
     "execution_count": 3,
     "metadata": {},
     "output_type": "execute_result"
    }
   ],
   "source": [
    "#İlk 10 kaydı inceleyelim.\n",
    "df_c.head(10)"
   ]
  },
  {
   "cell_type": "code",
   "execution_count": 4,
   "id": "a529ee12",
   "metadata": {
    "execution": {
     "iopub.execute_input": "2024-11-23T15:50:24.742046Z",
     "iopub.status.busy": "2024-11-23T15:50:24.741663Z",
     "iopub.status.idle": "2024-11-23T15:50:24.760254Z",
     "shell.execute_reply": "2024-11-23T15:50:24.759063Z"
    },
    "papermill": {
     "duration": 0.043663,
     "end_time": "2024-11-23T15:50:24.763036",
     "exception": false,
     "start_time": "2024-11-23T15:50:24.719373",
     "status": "completed"
    },
    "tags": []
   },
   "outputs": [
    {
     "data": {
      "text/html": [
       "<div>\n",
       "<style scoped>\n",
       "    .dataframe tbody tr th:only-of-type {\n",
       "        vertical-align: middle;\n",
       "    }\n",
       "\n",
       "    .dataframe tbody tr th {\n",
       "        vertical-align: top;\n",
       "    }\n",
       "\n",
       "    .dataframe thead th {\n",
       "        text-align: right;\n",
       "    }\n",
       "</style>\n",
       "<table border=\"1\" class=\"dataframe\">\n",
       "  <thead>\n",
       "    <tr style=\"text-align: right;\">\n",
       "      <th></th>\n",
       "      <th>id</th>\n",
       "      <th>name</th>\n",
       "      <th>est_diameter_min</th>\n",
       "      <th>est_diameter_max</th>\n",
       "      <th>relative_velocity</th>\n",
       "      <th>miss_distance</th>\n",
       "      <th>orbiting_body</th>\n",
       "      <th>sentry_object</th>\n",
       "      <th>absolute_magnitude</th>\n",
       "      <th>hazardous</th>\n",
       "    </tr>\n",
       "  </thead>\n",
       "  <tbody>\n",
       "    <tr>\n",
       "      <th>90826</th>\n",
       "      <td>3837953</td>\n",
       "      <td>(2019 BF1)</td>\n",
       "      <td>0.086807</td>\n",
       "      <td>0.194106</td>\n",
       "      <td>45322.795023</td>\n",
       "      <td>4.095345e+07</td>\n",
       "      <td>Earth</td>\n",
       "      <td>False</td>\n",
       "      <td>22.43</td>\n",
       "      <td>False</td>\n",
       "    </tr>\n",
       "    <tr>\n",
       "      <th>90827</th>\n",
       "      <td>54087420</td>\n",
       "      <td>(2020 VL)</td>\n",
       "      <td>0.024692</td>\n",
       "      <td>0.055213</td>\n",
       "      <td>14655.044804</td>\n",
       "      <td>1.766750e+07</td>\n",
       "      <td>Earth</td>\n",
       "      <td>False</td>\n",
       "      <td>25.16</td>\n",
       "      <td>False</td>\n",
       "    </tr>\n",
       "    <tr>\n",
       "      <th>90828</th>\n",
       "      <td>3363723</td>\n",
       "      <td>(2006 XW4)</td>\n",
       "      <td>0.036691</td>\n",
       "      <td>0.082043</td>\n",
       "      <td>26172.119254</td>\n",
       "      <td>2.249368e+06</td>\n",
       "      <td>Earth</td>\n",
       "      <td>False</td>\n",
       "      <td>24.30</td>\n",
       "      <td>False</td>\n",
       "    </tr>\n",
       "    <tr>\n",
       "      <th>90829</th>\n",
       "      <td>3587872</td>\n",
       "      <td>(2011 WA)</td>\n",
       "      <td>0.123184</td>\n",
       "      <td>0.275448</td>\n",
       "      <td>80671.310009</td>\n",
       "      <td>6.897365e+07</td>\n",
       "      <td>Earth</td>\n",
       "      <td>False</td>\n",
       "      <td>21.67</td>\n",
       "      <td>False</td>\n",
       "    </tr>\n",
       "    <tr>\n",
       "      <th>90830</th>\n",
       "      <td>3678630</td>\n",
       "      <td>(2014 OL339)</td>\n",
       "      <td>0.069913</td>\n",
       "      <td>0.156329</td>\n",
       "      <td>38102.469622</td>\n",
       "      <td>4.667988e+07</td>\n",
       "      <td>Earth</td>\n",
       "      <td>False</td>\n",
       "      <td>22.90</td>\n",
       "      <td>False</td>\n",
       "    </tr>\n",
       "    <tr>\n",
       "      <th>90831</th>\n",
       "      <td>3763337</td>\n",
       "      <td>(2016 VX1)</td>\n",
       "      <td>0.026580</td>\n",
       "      <td>0.059435</td>\n",
       "      <td>52078.886692</td>\n",
       "      <td>1.230039e+07</td>\n",
       "      <td>Earth</td>\n",
       "      <td>False</td>\n",
       "      <td>25.00</td>\n",
       "      <td>False</td>\n",
       "    </tr>\n",
       "    <tr>\n",
       "      <th>90832</th>\n",
       "      <td>3837603</td>\n",
       "      <td>(2019 AD3)</td>\n",
       "      <td>0.016771</td>\n",
       "      <td>0.037501</td>\n",
       "      <td>46114.605073</td>\n",
       "      <td>5.432121e+07</td>\n",
       "      <td>Earth</td>\n",
       "      <td>False</td>\n",
       "      <td>26.00</td>\n",
       "      <td>False</td>\n",
       "    </tr>\n",
       "    <tr>\n",
       "      <th>90833</th>\n",
       "      <td>54017201</td>\n",
       "      <td>(2020 JP3)</td>\n",
       "      <td>0.031956</td>\n",
       "      <td>0.071456</td>\n",
       "      <td>7566.807732</td>\n",
       "      <td>2.840077e+07</td>\n",
       "      <td>Earth</td>\n",
       "      <td>False</td>\n",
       "      <td>24.60</td>\n",
       "      <td>False</td>\n",
       "    </tr>\n",
       "    <tr>\n",
       "      <th>90834</th>\n",
       "      <td>54115824</td>\n",
       "      <td>(2021 CN5)</td>\n",
       "      <td>0.007321</td>\n",
       "      <td>0.016370</td>\n",
       "      <td>69199.154484</td>\n",
       "      <td>6.869206e+07</td>\n",
       "      <td>Earth</td>\n",
       "      <td>False</td>\n",
       "      <td>27.80</td>\n",
       "      <td>False</td>\n",
       "    </tr>\n",
       "    <tr>\n",
       "      <th>90835</th>\n",
       "      <td>54205447</td>\n",
       "      <td>(2021 TW7)</td>\n",
       "      <td>0.039862</td>\n",
       "      <td>0.089133</td>\n",
       "      <td>27024.455553</td>\n",
       "      <td>5.977213e+07</td>\n",
       "      <td>Earth</td>\n",
       "      <td>False</td>\n",
       "      <td>24.12</td>\n",
       "      <td>False</td>\n",
       "    </tr>\n",
       "  </tbody>\n",
       "</table>\n",
       "</div>"
      ],
      "text/plain": [
       "             id          name  est_diameter_min  est_diameter_max  \\\n",
       "90826   3837953    (2019 BF1)          0.086807          0.194106   \n",
       "90827  54087420     (2020 VL)          0.024692          0.055213   \n",
       "90828   3363723    (2006 XW4)          0.036691          0.082043   \n",
       "90829   3587872     (2011 WA)          0.123184          0.275448   \n",
       "90830   3678630  (2014 OL339)          0.069913          0.156329   \n",
       "90831   3763337    (2016 VX1)          0.026580          0.059435   \n",
       "90832   3837603    (2019 AD3)          0.016771          0.037501   \n",
       "90833  54017201    (2020 JP3)          0.031956          0.071456   \n",
       "90834  54115824    (2021 CN5)          0.007321          0.016370   \n",
       "90835  54205447    (2021 TW7)          0.039862          0.089133   \n",
       "\n",
       "       relative_velocity  miss_distance orbiting_body  sentry_object  \\\n",
       "90826       45322.795023   4.095345e+07         Earth          False   \n",
       "90827       14655.044804   1.766750e+07         Earth          False   \n",
       "90828       26172.119254   2.249368e+06         Earth          False   \n",
       "90829       80671.310009   6.897365e+07         Earth          False   \n",
       "90830       38102.469622   4.667988e+07         Earth          False   \n",
       "90831       52078.886692   1.230039e+07         Earth          False   \n",
       "90832       46114.605073   5.432121e+07         Earth          False   \n",
       "90833        7566.807732   2.840077e+07         Earth          False   \n",
       "90834       69199.154484   6.869206e+07         Earth          False   \n",
       "90835       27024.455553   5.977213e+07         Earth          False   \n",
       "\n",
       "       absolute_magnitude  hazardous  \n",
       "90826               22.43      False  \n",
       "90827               25.16      False  \n",
       "90828               24.30      False  \n",
       "90829               21.67      False  \n",
       "90830               22.90      False  \n",
       "90831               25.00      False  \n",
       "90832               26.00      False  \n",
       "90833               24.60      False  \n",
       "90834               27.80      False  \n",
       "90835               24.12      False  "
      ]
     },
     "execution_count": 4,
     "metadata": {},
     "output_type": "execute_result"
    }
   ],
   "source": [
    "#Son 10 kaydı inceleyelim.\n",
    "df_c.tail(10)"
   ]
  },
  {
   "cell_type": "code",
   "execution_count": 5,
   "id": "670de519",
   "metadata": {
    "execution": {
     "iopub.execute_input": "2024-11-23T15:50:24.815211Z",
     "iopub.status.busy": "2024-11-23T15:50:24.814701Z",
     "iopub.status.idle": "2024-11-23T15:50:24.861548Z",
     "shell.execute_reply": "2024-11-23T15:50:24.860227Z"
    },
    "papermill": {
     "duration": 0.072592,
     "end_time": "2024-11-23T15:50:24.864622",
     "exception": false,
     "start_time": "2024-11-23T15:50:24.792030",
     "status": "completed"
    },
    "tags": []
   },
   "outputs": [
    {
     "name": "stdout",
     "output_type": "stream",
     "text": [
      "<class 'pandas.core.frame.DataFrame'>\n",
      "RangeIndex: 90836 entries, 0 to 90835\n",
      "Data columns (total 10 columns):\n",
      " #   Column              Non-Null Count  Dtype  \n",
      "---  ------              --------------  -----  \n",
      " 0   id                  90836 non-null  int64  \n",
      " 1   name                90836 non-null  object \n",
      " 2   est_diameter_min    90836 non-null  float64\n",
      " 3   est_diameter_max    90836 non-null  float64\n",
      " 4   relative_velocity   90836 non-null  float64\n",
      " 5   miss_distance       90836 non-null  float64\n",
      " 6   orbiting_body       90836 non-null  object \n",
      " 7   sentry_object       90836 non-null  bool   \n",
      " 8   absolute_magnitude  90836 non-null  float64\n",
      " 9   hazardous           90836 non-null  bool   \n",
      "dtypes: bool(2), float64(5), int64(1), object(2)\n",
      "memory usage: 5.7+ MB\n"
     ]
    }
   ],
   "source": [
    "#Veri hakkında genel bilgiler\n",
    "df_c.info()"
   ]
  },
  {
   "cell_type": "code",
   "execution_count": 6,
   "id": "2716c89b",
   "metadata": {
    "execution": {
     "iopub.execute_input": "2024-11-23T15:50:24.917172Z",
     "iopub.status.busy": "2024-11-23T15:50:24.916090Z",
     "iopub.status.idle": "2024-11-23T15:50:24.944725Z",
     "shell.execute_reply": "2024-11-23T15:50:24.943495Z"
    },
    "papermill": {
     "duration": 0.053938,
     "end_time": "2024-11-23T15:50:24.947160",
     "exception": false,
     "start_time": "2024-11-23T15:50:24.893222",
     "status": "completed"
    },
    "tags": []
   },
   "outputs": [
    {
     "data": {
      "text/plain": [
       "id                    90836\n",
       "name                  90836\n",
       "est_diameter_min      90836\n",
       "est_diameter_max      90836\n",
       "relative_velocity     90836\n",
       "miss_distance         90836\n",
       "orbiting_body         90836\n",
       "sentry_object         90836\n",
       "absolute_magnitude    90836\n",
       "hazardous             90836\n",
       "dtype: int64"
      ]
     },
     "execution_count": 6,
     "metadata": {},
     "output_type": "execute_result"
    }
   ],
   "source": [
    "#Her sütunda kaç veri olduğu bilgisi\n",
    "df_c.count()"
   ]
  },
  {
   "cell_type": "code",
   "execution_count": 7,
   "id": "db5a5acd",
   "metadata": {
    "execution": {
     "iopub.execute_input": "2024-11-23T15:50:25.007210Z",
     "iopub.status.busy": "2024-11-23T15:50:25.006810Z",
     "iopub.status.idle": "2024-11-23T15:50:25.013798Z",
     "shell.execute_reply": "2024-11-23T15:50:25.012632Z"
    },
    "papermill": {
     "duration": 0.039551,
     "end_time": "2024-11-23T15:50:25.016022",
     "exception": false,
     "start_time": "2024-11-23T15:50:24.976471",
     "status": "completed"
    },
    "tags": []
   },
   "outputs": [
    {
     "data": {
      "text/plain": [
       "Index(['id', 'name', 'est_diameter_min', 'est_diameter_max',\n",
       "       'relative_velocity', 'miss_distance', 'orbiting_body', 'sentry_object',\n",
       "       'absolute_magnitude', 'hazardous'],\n",
       "      dtype='object')"
      ]
     },
     "execution_count": 7,
     "metadata": {},
     "output_type": "execute_result"
    }
   ],
   "source": [
    "#Sütunları ayrıca yazdırabiliriz\n",
    "df_c.columns"
   ]
  },
  {
   "cell_type": "code",
   "execution_count": 8,
   "id": "7a159eb0",
   "metadata": {
    "execution": {
     "iopub.execute_input": "2024-11-23T15:50:25.063904Z",
     "iopub.status.busy": "2024-11-23T15:50:25.063280Z",
     "iopub.status.idle": "2024-11-23T15:50:25.073217Z",
     "shell.execute_reply": "2024-11-23T15:50:25.072132Z"
    },
    "papermill": {
     "duration": 0.036018,
     "end_time": "2024-11-23T15:50:25.075954",
     "exception": false,
     "start_time": "2024-11-23T15:50:25.039936",
     "status": "completed"
    },
    "tags": []
   },
   "outputs": [
    {
     "data": {
      "text/plain": [
       "id                      int64\n",
       "name                   object\n",
       "est_diameter_min      float64\n",
       "est_diameter_max      float64\n",
       "relative_velocity     float64\n",
       "miss_distance         float64\n",
       "orbiting_body          object\n",
       "sentry_object            bool\n",
       "absolute_magnitude    float64\n",
       "hazardous                bool\n",
       "dtype: object"
      ]
     },
     "execution_count": 8,
     "metadata": {},
     "output_type": "execute_result"
    }
   ],
   "source": [
    "#Veri tipleri\n",
    "df_c.dtypes"
   ]
  },
  {
   "cell_type": "markdown",
   "id": "c645507e",
   "metadata": {
    "papermill": {
     "duration": 0.020748,
     "end_time": "2024-11-23T15:50:25.123583",
     "exception": false,
     "start_time": "2024-11-23T15:50:25.102835",
     "status": "completed"
    },
    "tags": []
   },
   "source": [
    "# **2.1.Kategorik Değişken Analizi**"
   ]
  },
  {
   "cell_type": "code",
   "execution_count": 9,
   "id": "1db9695f",
   "metadata": {
    "execution": {
     "iopub.execute_input": "2024-11-23T15:50:25.169395Z",
     "iopub.status.busy": "2024-11-23T15:50:25.168258Z",
     "iopub.status.idle": "2024-11-23T15:50:25.184383Z",
     "shell.execute_reply": "2024-11-23T15:50:25.183142Z"
    },
    "papermill": {
     "duration": 0.042828,
     "end_time": "2024-11-23T15:50:25.187315",
     "exception": false,
     "start_time": "2024-11-23T15:50:25.144487",
     "status": "completed"
    },
    "tags": []
   },
   "outputs": [
    {
     "data": {
      "text/html": [
       "<div>\n",
       "<style scoped>\n",
       "    .dataframe tbody tr th:only-of-type {\n",
       "        vertical-align: middle;\n",
       "    }\n",
       "\n",
       "    .dataframe tbody tr th {\n",
       "        vertical-align: top;\n",
       "    }\n",
       "\n",
       "    .dataframe thead th {\n",
       "        text-align: right;\n",
       "    }\n",
       "</style>\n",
       "<table border=\"1\" class=\"dataframe\">\n",
       "  <thead>\n",
       "    <tr style=\"text-align: right;\">\n",
       "      <th></th>\n",
       "      <th>name</th>\n",
       "      <th>orbiting_body</th>\n",
       "      <th>sentry_object</th>\n",
       "      <th>hazardous</th>\n",
       "    </tr>\n",
       "  </thead>\n",
       "  <tbody>\n",
       "    <tr>\n",
       "      <th>0</th>\n",
       "      <td>162635 (2000 SS164)</td>\n",
       "      <td>Earth</td>\n",
       "      <td>False</td>\n",
       "      <td>False</td>\n",
       "    </tr>\n",
       "    <tr>\n",
       "      <th>1</th>\n",
       "      <td>277475 (2005 WK4)</td>\n",
       "      <td>Earth</td>\n",
       "      <td>False</td>\n",
       "      <td>True</td>\n",
       "    </tr>\n",
       "    <tr>\n",
       "      <th>2</th>\n",
       "      <td>512244 (2015 YE18)</td>\n",
       "      <td>Earth</td>\n",
       "      <td>False</td>\n",
       "      <td>False</td>\n",
       "    </tr>\n",
       "    <tr>\n",
       "      <th>3</th>\n",
       "      <td>(2012 BV13)</td>\n",
       "      <td>Earth</td>\n",
       "      <td>False</td>\n",
       "      <td>False</td>\n",
       "    </tr>\n",
       "    <tr>\n",
       "      <th>4</th>\n",
       "      <td>(2014 GE35)</td>\n",
       "      <td>Earth</td>\n",
       "      <td>False</td>\n",
       "      <td>True</td>\n",
       "    </tr>\n",
       "  </tbody>\n",
       "</table>\n",
       "</div>"
      ],
      "text/plain": [
       "                  name orbiting_body  sentry_object  hazardous\n",
       "0  162635 (2000 SS164)         Earth          False      False\n",
       "1    277475 (2005 WK4)         Earth          False       True\n",
       "2   512244 (2015 YE18)         Earth          False      False\n",
       "3          (2012 BV13)         Earth          False      False\n",
       "4          (2014 GE35)         Earth          False       True"
      ]
     },
     "execution_count": 9,
     "metadata": {},
     "output_type": "execute_result"
    }
   ],
   "source": [
    "df_categorical=df_c.select_dtypes(include=[\"object\",\"bool\"])\n",
    "df_categorical.head(5)"
   ]
  },
  {
   "cell_type": "markdown",
   "id": "75c0d001",
   "metadata": {
    "papermill": {
     "duration": 0.021016,
     "end_time": "2024-11-23T15:50:25.234904",
     "exception": false,
     "start_time": "2024-11-23T15:50:25.213888",
     "status": "completed"
    },
    "tags": []
   },
   "source": [
    "# **2.2.Nümerik Değişken Analizi**"
   ]
  },
  {
   "cell_type": "code",
   "execution_count": 10,
   "id": "b8551f11",
   "metadata": {
    "execution": {
     "iopub.execute_input": "2024-11-23T15:50:25.280157Z",
     "iopub.status.busy": "2024-11-23T15:50:25.279091Z",
     "iopub.status.idle": "2024-11-23T15:50:25.300298Z",
     "shell.execute_reply": "2024-11-23T15:50:25.299045Z"
    },
    "papermill": {
     "duration": 0.046564,
     "end_time": "2024-11-23T15:50:25.302773",
     "exception": false,
     "start_time": "2024-11-23T15:50:25.256209",
     "status": "completed"
    },
    "tags": []
   },
   "outputs": [
    {
     "data": {
      "text/html": [
       "<div>\n",
       "<style scoped>\n",
       "    .dataframe tbody tr th:only-of-type {\n",
       "        vertical-align: middle;\n",
       "    }\n",
       "\n",
       "    .dataframe tbody tr th {\n",
       "        vertical-align: top;\n",
       "    }\n",
       "\n",
       "    .dataframe thead th {\n",
       "        text-align: right;\n",
       "    }\n",
       "</style>\n",
       "<table border=\"1\" class=\"dataframe\">\n",
       "  <thead>\n",
       "    <tr style=\"text-align: right;\">\n",
       "      <th></th>\n",
       "      <th>est_diameter_min</th>\n",
       "      <th>est_diameter_max</th>\n",
       "      <th>relative_velocity</th>\n",
       "      <th>miss_distance</th>\n",
       "      <th>absolute_magnitude</th>\n",
       "    </tr>\n",
       "  </thead>\n",
       "  <tbody>\n",
       "    <tr>\n",
       "      <th>0</th>\n",
       "      <td>1.198271</td>\n",
       "      <td>2.679415</td>\n",
       "      <td>13569.249224</td>\n",
       "      <td>5.483974e+07</td>\n",
       "      <td>16.73</td>\n",
       "    </tr>\n",
       "    <tr>\n",
       "      <th>1</th>\n",
       "      <td>0.265800</td>\n",
       "      <td>0.594347</td>\n",
       "      <td>73588.726663</td>\n",
       "      <td>6.143813e+07</td>\n",
       "      <td>20.00</td>\n",
       "    </tr>\n",
       "    <tr>\n",
       "      <th>2</th>\n",
       "      <td>0.722030</td>\n",
       "      <td>1.614507</td>\n",
       "      <td>114258.692129</td>\n",
       "      <td>4.979872e+07</td>\n",
       "      <td>17.83</td>\n",
       "    </tr>\n",
       "    <tr>\n",
       "      <th>3</th>\n",
       "      <td>0.096506</td>\n",
       "      <td>0.215794</td>\n",
       "      <td>24764.303138</td>\n",
       "      <td>2.543497e+07</td>\n",
       "      <td>22.20</td>\n",
       "    </tr>\n",
       "    <tr>\n",
       "      <th>4</th>\n",
       "      <td>0.255009</td>\n",
       "      <td>0.570217</td>\n",
       "      <td>42737.733765</td>\n",
       "      <td>4.627557e+07</td>\n",
       "      <td>20.09</td>\n",
       "    </tr>\n",
       "  </tbody>\n",
       "</table>\n",
       "</div>"
      ],
      "text/plain": [
       "   est_diameter_min  est_diameter_max  relative_velocity  miss_distance  \\\n",
       "0          1.198271          2.679415       13569.249224   5.483974e+07   \n",
       "1          0.265800          0.594347       73588.726663   6.143813e+07   \n",
       "2          0.722030          1.614507      114258.692129   4.979872e+07   \n",
       "3          0.096506          0.215794       24764.303138   2.543497e+07   \n",
       "4          0.255009          0.570217       42737.733765   4.627557e+07   \n",
       "\n",
       "   absolute_magnitude  \n",
       "0               16.73  \n",
       "1               20.00  \n",
       "2               17.83  \n",
       "3               22.20  \n",
       "4               20.09  "
      ]
     },
     "execution_count": 10,
     "metadata": {},
     "output_type": "execute_result"
    }
   ],
   "source": [
    "df_numerical=df_c.select_dtypes(include= \"float64\" )\n",
    "df_numerical.head(5)"
   ]
  },
  {
   "cell_type": "markdown",
   "id": "4db6a2e2",
   "metadata": {
    "papermill": {
     "duration": 0.021225,
     "end_time": "2024-11-23T15:50:25.345949",
     "exception": false,
     "start_time": "2024-11-23T15:50:25.324724",
     "status": "completed"
    },
    "tags": []
   },
   "source": [
    "Değişkenler arası korelasyonu (ilişkinin kuvvetini) ısı haritası yardımıyla görelim."
   ]
  },
  {
   "cell_type": "code",
   "execution_count": 11,
   "id": "664250cf",
   "metadata": {
    "execution": {
     "iopub.execute_input": "2024-11-23T15:50:25.392719Z",
     "iopub.status.busy": "2024-11-23T15:50:25.391926Z",
     "iopub.status.idle": "2024-11-23T15:50:25.414883Z",
     "shell.execute_reply": "2024-11-23T15:50:25.413376Z"
    },
    "papermill": {
     "duration": 0.04955,
     "end_time": "2024-11-23T15:50:25.417468",
     "exception": false,
     "start_time": "2024-11-23T15:50:25.367918",
     "status": "completed"
    },
    "tags": []
   },
   "outputs": [
    {
     "name": "stdout",
     "output_type": "stream",
     "text": [
      "                    est_diameter_min  est_diameter_max  relative_velocity  \\\n",
      "est_diameter_min            1.000000          1.000000           0.221553   \n",
      "est_diameter_max            1.000000          1.000000           0.221553   \n",
      "relative_velocity           0.221553          0.221553           1.000000   \n",
      "miss_distance               0.142241          0.142241           0.327169   \n",
      "absolute_magnitude         -0.560188         -0.560188          -0.353863   \n",
      "\n",
      "                    miss_distance  absolute_magnitude  \n",
      "est_diameter_min         0.142241           -0.560188  \n",
      "est_diameter_max         0.142241           -0.560188  \n",
      "relative_velocity        0.327169           -0.353863  \n",
      "miss_distance            1.000000           -0.264168  \n",
      "absolute_magnitude      -0.264168            1.000000  \n"
     ]
    }
   ],
   "source": [
    "#Öncelikle bir korelasyon matrisi oluşturmalıyız.\n",
    "corr_matrix=df_numerical.corr()\n",
    "print(corr_matrix)"
   ]
  },
  {
   "cell_type": "code",
   "execution_count": 12,
   "id": "ab2a5fff",
   "metadata": {
    "execution": {
     "iopub.execute_input": "2024-11-23T15:50:25.517598Z",
     "iopub.status.busy": "2024-11-23T15:50:25.516481Z",
     "iopub.status.idle": "2024-11-23T15:50:25.946136Z",
     "shell.execute_reply": "2024-11-23T15:50:25.944879Z"
    },
    "papermill": {
     "duration": 0.45547,
     "end_time": "2024-11-23T15:50:25.948737",
     "exception": false,
     "start_time": "2024-11-23T15:50:25.493267",
     "status": "completed"
    },
    "tags": []
   },
   "outputs": [
    {
     "data": {
      "image/png": "[encoded data removed]",
      "text/plain": [
       "<Figure size 1000x800 with 2 Axes>"
      ]
     },
     "metadata": {},
     "output_type": "display_data"
    }
   ],
   "source": [
    "# Isı haritasını çizdirelim\n",
    "plt.figure(figsize=(10, 8))\n",
    "sns.heatmap(corr_matrix, annot=True, cmap='coolwarm', fmt='.2f', cbar=True)\n",
    "plt.title('Değişkenler Arası Korelasyon')\n",
    "plt.show()"
   ]
  },
  {
   "cell_type": "markdown",
   "id": "c3815406",
   "metadata": {
    "papermill": {
     "duration": 0.022933,
     "end_time": "2024-11-23T15:50:25.994687",
     "exception": false,
     "start_time": "2024-11-23T15:50:25.971754",
     "status": "completed"
    },
    "tags": []
   },
   "source": [
    "# **3.Feature Selection**"
   ]
  },
  {
   "cell_type": "markdown",
   "id": "50c7ec74",
   "metadata": {
    "papermill": {
     "duration": 0.024853,
     "end_time": "2024-11-23T15:50:26.043748",
     "exception": false,
     "start_time": "2024-11-23T15:50:26.018895",
     "status": "completed"
    },
    "tags": []
   },
   "source": [
    "\n",
    "**Verilerimizde herhangi bir değişiklik yapmadan önce veri setine ilk baktığımızda \"orbiting_body ve sentry_object\" sütunlarındaki tüm değerlerin aynı olduğu dikkatimizi çekmişti. Bunların kontrolünü sağlayalım.**\n",
    "\n",
    "**Bazı istisnalar dışında, değerlerin tüm gözlemler için aynı olduğu durumlarda, o sütunun bize faydası olmamakta, hatta hesaplama maliyetlerini artırarak olumsuz sonuçlar doğurmaktadır. Özellikle daha ileri makine öğrenmesi yöntemlerinde modeli gereksiz karmaşık hale getirip hatalı sonuçlara ulaşmamıza neden olabilmektedir.**\n"
   ]
  },
  {
   "cell_type": "code",
   "execution_count": 13,
   "id": "7db6e4c2",
   "metadata": {
    "execution": {
     "iopub.execute_input": "2024-11-23T15:50:26.092287Z",
     "iopub.status.busy": "2024-11-23T15:50:26.091878Z",
     "iopub.status.idle": "2024-11-23T15:50:26.100562Z",
     "shell.execute_reply": "2024-11-23T15:50:26.099337Z"
    },
    "papermill": {
     "duration": 0.03486,
     "end_time": "2024-11-23T15:50:26.102732",
     "exception": false,
     "start_time": "2024-11-23T15:50:26.067872",
     "status": "completed"
    },
    "tags": []
   },
   "outputs": [
    {
     "data": {
      "text/plain": [
       "0        Earth\n",
       "1        Earth\n",
       "2        Earth\n",
       "3        Earth\n",
       "4        Earth\n",
       "         ...  \n",
       "90831    Earth\n",
       "90832    Earth\n",
       "90833    Earth\n",
       "90834    Earth\n",
       "90835    Earth\n",
       "Name: orbiting_body, Length: 90836, dtype: object"
      ]
     },
     "execution_count": 13,
     "metadata": {},
     "output_type": "execute_result"
    }
   ],
   "source": [
    "#İlgili ilk sütunun tüm değerlerini çağıralım\n",
    "df_c[\"orbiting_body\"]"
   ]
  },
  {
   "cell_type": "code",
   "execution_count": 14,
   "id": "14706235",
   "metadata": {
    "execution": {
     "iopub.execute_input": "2024-11-23T15:50:26.149386Z",
     "iopub.status.busy": "2024-11-23T15:50:26.148966Z",
     "iopub.status.idle": "2024-11-23T15:50:26.162978Z",
     "shell.execute_reply": "2024-11-23T15:50:26.161869Z"
    },
    "papermill": {
     "duration": 0.039976,
     "end_time": "2024-11-23T15:50:26.165282",
     "exception": false,
     "start_time": "2024-11-23T15:50:26.125306",
     "status": "completed"
    },
    "tags": []
   },
   "outputs": [
    {
     "data": {
      "text/plain": [
       "orbiting_body\n",
       "Earth    90836\n",
       "Name: count, dtype: int64"
      ]
     },
     "execution_count": 14,
     "metadata": {},
     "output_type": "execute_result"
    }
   ],
   "source": [
    "#Şimdi de daha detaylı bir şekilde her değere ait kaç gözlem var bakalım.\n",
    "df_c[\"orbiting_body\"].value_counts()"
   ]
  },
  {
   "cell_type": "markdown",
   "id": "9a763cc1",
   "metadata": {
    "papermill": {
     "duration": 0.022059,
     "end_time": "2024-11-23T15:50:26.209908",
     "exception": false,
     "start_time": "2024-11-23T15:50:26.187849",
     "status": "completed"
    },
    "tags": []
   },
   "source": [
    "Tüm değerlerin aynı olduğunu gördük."
   ]
  },
  {
   "cell_type": "code",
   "execution_count": 15,
   "id": "ead55d9d",
   "metadata": {
    "execution": {
     "iopub.execute_input": "2024-11-23T15:50:26.256969Z",
     "iopub.status.busy": "2024-11-23T15:50:26.256577Z",
     "iopub.status.idle": "2024-11-23T15:50:26.267026Z",
     "shell.execute_reply": "2024-11-23T15:50:26.265906Z"
    },
    "papermill": {
     "duration": 0.037006,
     "end_time": "2024-11-23T15:50:26.269315",
     "exception": false,
     "start_time": "2024-11-23T15:50:26.232309",
     "status": "completed"
    },
    "tags": []
   },
   "outputs": [],
   "source": [
    "#orbiting_body sütununu silelim\n",
    "df_c.drop(\"orbiting_body\",axis=1,inplace=True)"
   ]
  },
  {
   "cell_type": "code",
   "execution_count": 16,
   "id": "29384447",
   "metadata": {
    "execution": {
     "iopub.execute_input": "2024-11-23T15:50:26.317347Z",
     "iopub.status.busy": "2024-11-23T15:50:26.316196Z",
     "iopub.status.idle": "2024-11-23T15:50:26.332223Z",
     "shell.execute_reply": "2024-11-23T15:50:26.331141Z"
    },
    "papermill": {
     "duration": 0.042101,
     "end_time": "2024-11-23T15:50:26.334489",
     "exception": false,
     "start_time": "2024-11-23T15:50:26.292388",
     "status": "completed"
    },
    "tags": []
   },
   "outputs": [
    {
     "data": {
      "text/html": [
       "<div>\n",
       "<style scoped>\n",
       "    .dataframe tbody tr th:only-of-type {\n",
       "        vertical-align: middle;\n",
       "    }\n",
       "\n",
       "    .dataframe tbody tr th {\n",
       "        vertical-align: top;\n",
       "    }\n",
       "\n",
       "    .dataframe thead th {\n",
       "        text-align: right;\n",
       "    }\n",
       "</style>\n",
       "<table border=\"1\" class=\"dataframe\">\n",
       "  <thead>\n",
       "    <tr style=\"text-align: right;\">\n",
       "      <th></th>\n",
       "      <th>id</th>\n",
       "      <th>name</th>\n",
       "      <th>est_diameter_min</th>\n",
       "      <th>est_diameter_max</th>\n",
       "      <th>relative_velocity</th>\n",
       "      <th>miss_distance</th>\n",
       "      <th>sentry_object</th>\n",
       "      <th>absolute_magnitude</th>\n",
       "      <th>hazardous</th>\n",
       "    </tr>\n",
       "  </thead>\n",
       "  <tbody>\n",
       "    <tr>\n",
       "      <th>0</th>\n",
       "      <td>2162635</td>\n",
       "      <td>162635 (2000 SS164)</td>\n",
       "      <td>1.198271</td>\n",
       "      <td>2.679415</td>\n",
       "      <td>13569.249224</td>\n",
       "      <td>5.483974e+07</td>\n",
       "      <td>False</td>\n",
       "      <td>16.73</td>\n",
       "      <td>False</td>\n",
       "    </tr>\n",
       "    <tr>\n",
       "      <th>1</th>\n",
       "      <td>2277475</td>\n",
       "      <td>277475 (2005 WK4)</td>\n",
       "      <td>0.265800</td>\n",
       "      <td>0.594347</td>\n",
       "      <td>73588.726663</td>\n",
       "      <td>6.143813e+07</td>\n",
       "      <td>False</td>\n",
       "      <td>20.00</td>\n",
       "      <td>True</td>\n",
       "    </tr>\n",
       "    <tr>\n",
       "      <th>2</th>\n",
       "      <td>2512244</td>\n",
       "      <td>512244 (2015 YE18)</td>\n",
       "      <td>0.722030</td>\n",
       "      <td>1.614507</td>\n",
       "      <td>114258.692129</td>\n",
       "      <td>4.979872e+07</td>\n",
       "      <td>False</td>\n",
       "      <td>17.83</td>\n",
       "      <td>False</td>\n",
       "    </tr>\n",
       "    <tr>\n",
       "      <th>3</th>\n",
       "      <td>3596030</td>\n",
       "      <td>(2012 BV13)</td>\n",
       "      <td>0.096506</td>\n",
       "      <td>0.215794</td>\n",
       "      <td>24764.303138</td>\n",
       "      <td>2.543497e+07</td>\n",
       "      <td>False</td>\n",
       "      <td>22.20</td>\n",
       "      <td>False</td>\n",
       "    </tr>\n",
       "    <tr>\n",
       "      <th>4</th>\n",
       "      <td>3667127</td>\n",
       "      <td>(2014 GE35)</td>\n",
       "      <td>0.255009</td>\n",
       "      <td>0.570217</td>\n",
       "      <td>42737.733765</td>\n",
       "      <td>4.627557e+07</td>\n",
       "      <td>False</td>\n",
       "      <td>20.09</td>\n",
       "      <td>True</td>\n",
       "    </tr>\n",
       "    <tr>\n",
       "      <th>5</th>\n",
       "      <td>54138696</td>\n",
       "      <td>(2021 GY23)</td>\n",
       "      <td>0.036354</td>\n",
       "      <td>0.081291</td>\n",
       "      <td>34297.587778</td>\n",
       "      <td>4.058569e+07</td>\n",
       "      <td>False</td>\n",
       "      <td>24.32</td>\n",
       "      <td>False</td>\n",
       "    </tr>\n",
       "    <tr>\n",
       "      <th>6</th>\n",
       "      <td>54189957</td>\n",
       "      <td>(2021 PY40)</td>\n",
       "      <td>0.171615</td>\n",
       "      <td>0.383743</td>\n",
       "      <td>27529.472307</td>\n",
       "      <td>2.906912e+07</td>\n",
       "      <td>False</td>\n",
       "      <td>20.95</td>\n",
       "      <td>False</td>\n",
       "    </tr>\n",
       "    <tr>\n",
       "      <th>7</th>\n",
       "      <td>54230078</td>\n",
       "      <td>(2021 XD6)</td>\n",
       "      <td>0.005328</td>\n",
       "      <td>0.011914</td>\n",
       "      <td>57544.470083</td>\n",
       "      <td>5.511502e+07</td>\n",
       "      <td>False</td>\n",
       "      <td>28.49</td>\n",
       "      <td>False</td>\n",
       "    </tr>\n",
       "    <tr>\n",
       "      <th>8</th>\n",
       "      <td>2088213</td>\n",
       "      <td>88213 (2001 AF2)</td>\n",
       "      <td>0.350393</td>\n",
       "      <td>0.783502</td>\n",
       "      <td>56625.210122</td>\n",
       "      <td>6.903598e+07</td>\n",
       "      <td>False</td>\n",
       "      <td>19.40</td>\n",
       "      <td>False</td>\n",
       "    </tr>\n",
       "    <tr>\n",
       "      <th>9</th>\n",
       "      <td>3766065</td>\n",
       "      <td>(2016 YM)</td>\n",
       "      <td>0.105817</td>\n",
       "      <td>0.236614</td>\n",
       "      <td>48425.840329</td>\n",
       "      <td>3.835526e+07</td>\n",
       "      <td>False</td>\n",
       "      <td>22.00</td>\n",
       "      <td>False</td>\n",
       "    </tr>\n",
       "  </tbody>\n",
       "</table>\n",
       "</div>"
      ],
      "text/plain": [
       "         id                 name  est_diameter_min  est_diameter_max  \\\n",
       "0   2162635  162635 (2000 SS164)          1.198271          2.679415   \n",
       "1   2277475    277475 (2005 WK4)          0.265800          0.594347   \n",
       "2   2512244   512244 (2015 YE18)          0.722030          1.614507   \n",
       "3   3596030          (2012 BV13)          0.096506          0.215794   \n",
       "4   3667127          (2014 GE35)          0.255009          0.570217   \n",
       "5  54138696          (2021 GY23)          0.036354          0.081291   \n",
       "6  54189957          (2021 PY40)          0.171615          0.383743   \n",
       "7  54230078           (2021 XD6)          0.005328          0.011914   \n",
       "8   2088213     88213 (2001 AF2)          0.350393          0.783502   \n",
       "9   3766065            (2016 YM)          0.105817          0.236614   \n",
       "\n",
       "   relative_velocity  miss_distance  sentry_object  absolute_magnitude  \\\n",
       "0       13569.249224   5.483974e+07          False               16.73   \n",
       "1       73588.726663   6.143813e+07          False               20.00   \n",
       "2      114258.692129   4.979872e+07          False               17.83   \n",
       "3       24764.303138   2.543497e+07          False               22.20   \n",
       "4       42737.733765   4.627557e+07          False               20.09   \n",
       "5       34297.587778   4.058569e+07          False               24.32   \n",
       "6       27529.472307   2.906912e+07          False               20.95   \n",
       "7       57544.470083   5.511502e+07          False               28.49   \n",
       "8       56625.210122   6.903598e+07          False               19.40   \n",
       "9       48425.840329   3.835526e+07          False               22.00   \n",
       "\n",
       "   hazardous  \n",
       "0      False  \n",
       "1       True  \n",
       "2      False  \n",
       "3      False  \n",
       "4       True  \n",
       "5      False  \n",
       "6      False  \n",
       "7      False  \n",
       "8      False  \n",
       "9      False  "
      ]
     },
     "execution_count": 16,
     "metadata": {},
     "output_type": "execute_result"
    }
   ],
   "source": [
    "#Silinip silinmediğini kontrol edelim.\n",
    "df_c.head(10)"
   ]
  },
  {
   "cell_type": "code",
   "execution_count": 17,
   "id": "25a5658b",
   "metadata": {
    "execution": {
     "iopub.execute_input": "2024-11-23T15:50:26.383295Z",
     "iopub.status.busy": "2024-11-23T15:50:26.382095Z",
     "iopub.status.idle": "2024-11-23T15:50:26.390940Z",
     "shell.execute_reply": "2024-11-23T15:50:26.389804Z"
    },
    "papermill": {
     "duration": 0.035306,
     "end_time": "2024-11-23T15:50:26.393113",
     "exception": false,
     "start_time": "2024-11-23T15:50:26.357807",
     "status": "completed"
    },
    "tags": []
   },
   "outputs": [
    {
     "data": {
      "text/plain": [
       "0        False\n",
       "1        False\n",
       "2        False\n",
       "3        False\n",
       "4        False\n",
       "         ...  \n",
       "90831    False\n",
       "90832    False\n",
       "90833    False\n",
       "90834    False\n",
       "90835    False\n",
       "Name: sentry_object, Length: 90836, dtype: bool"
      ]
     },
     "execution_count": 17,
     "metadata": {},
     "output_type": "execute_result"
    }
   ],
   "source": [
    "#İlgili ikinci sütunun tüm değerlerini çağıralım.\n",
    "df_c[\"sentry_object\"]"
   ]
  },
  {
   "cell_type": "code",
   "execution_count": 18,
   "id": "d13e4df6",
   "metadata": {
    "execution": {
     "iopub.execute_input": "2024-11-23T15:50:26.441559Z",
     "iopub.status.busy": "2024-11-23T15:50:26.441139Z",
     "iopub.status.idle": "2024-11-23T15:50:26.451692Z",
     "shell.execute_reply": "2024-11-23T15:50:26.450655Z"
    },
    "papermill": {
     "duration": 0.037939,
     "end_time": "2024-11-23T15:50:26.453921",
     "exception": false,
     "start_time": "2024-11-23T15:50:26.415982",
     "status": "completed"
    },
    "tags": []
   },
   "outputs": [
    {
     "data": {
      "text/plain": [
       "sentry_object\n",
       "False    90836\n",
       "Name: count, dtype: int64"
      ]
     },
     "execution_count": 18,
     "metadata": {},
     "output_type": "execute_result"
    }
   ],
   "source": [
    "#Aynı şekilde hangi değere ait kaç gözlem olduğuna bakalım\n",
    "df_c[\"sentry_object\"].value_counts()"
   ]
  },
  {
   "cell_type": "markdown",
   "id": "2a0f7cbb",
   "metadata": {
    "papermill": {
     "duration": 0.023861,
     "end_time": "2024-11-23T15:50:26.500867",
     "exception": false,
     "start_time": "2024-11-23T15:50:26.477006",
     "status": "completed"
    },
    "tags": []
   },
   "source": [
    "Bu sütun için de tüm değerlerin aynı olduğunu gördük."
   ]
  },
  {
   "cell_type": "code",
   "execution_count": 19,
   "id": "3d22ea9c",
   "metadata": {
    "execution": {
     "iopub.execute_input": "2024-11-23T15:50:26.550195Z",
     "iopub.status.busy": "2024-11-23T15:50:26.549788Z",
     "iopub.status.idle": "2024-11-23T15:50:26.561400Z",
     "shell.execute_reply": "2024-11-23T15:50:26.560354Z"
    },
    "papermill": {
     "duration": 0.038872,
     "end_time": "2024-11-23T15:50:26.563935",
     "exception": false,
     "start_time": "2024-11-23T15:50:26.525063",
     "status": "completed"
    },
    "tags": []
   },
   "outputs": [],
   "source": [
    "#Bu sütunu da silelim.\n",
    "df_c.drop(\"sentry_object\",axis=1,inplace=True)"
   ]
  },
  {
   "cell_type": "code",
   "execution_count": 20,
   "id": "a6ed2130",
   "metadata": {
    "execution": {
     "iopub.execute_input": "2024-11-23T15:50:26.613341Z",
     "iopub.status.busy": "2024-11-23T15:50:26.612904Z",
     "iopub.status.idle": "2024-11-23T15:50:26.629480Z",
     "shell.execute_reply": "2024-11-23T15:50:26.628375Z"
    },
    "papermill": {
     "duration": 0.044013,
     "end_time": "2024-11-23T15:50:26.631747",
     "exception": false,
     "start_time": "2024-11-23T15:50:26.587734",
     "status": "completed"
    },
    "tags": []
   },
   "outputs": [
    {
     "data": {
      "text/html": [
       "<div>\n",
       "<style scoped>\n",
       "    .dataframe tbody tr th:only-of-type {\n",
       "        vertical-align: middle;\n",
       "    }\n",
       "\n",
       "    .dataframe tbody tr th {\n",
       "        vertical-align: top;\n",
       "    }\n",
       "\n",
       "    .dataframe thead th {\n",
       "        text-align: right;\n",
       "    }\n",
       "</style>\n",
       "<table border=\"1\" class=\"dataframe\">\n",
       "  <thead>\n",
       "    <tr style=\"text-align: right;\">\n",
       "      <th></th>\n",
       "      <th>id</th>\n",
       "      <th>name</th>\n",
       "      <th>est_diameter_min</th>\n",
       "      <th>est_diameter_max</th>\n",
       "      <th>relative_velocity</th>\n",
       "      <th>miss_distance</th>\n",
       "      <th>absolute_magnitude</th>\n",
       "      <th>hazardous</th>\n",
       "    </tr>\n",
       "  </thead>\n",
       "  <tbody>\n",
       "    <tr>\n",
       "      <th>0</th>\n",
       "      <td>2162635</td>\n",
       "      <td>162635 (2000 SS164)</td>\n",
       "      <td>1.198271</td>\n",
       "      <td>2.679415</td>\n",
       "      <td>13569.249224</td>\n",
       "      <td>5.483974e+07</td>\n",
       "      <td>16.73</td>\n",
       "      <td>False</td>\n",
       "    </tr>\n",
       "    <tr>\n",
       "      <th>1</th>\n",
       "      <td>2277475</td>\n",
       "      <td>277475 (2005 WK4)</td>\n",
       "      <td>0.265800</td>\n",
       "      <td>0.594347</td>\n",
       "      <td>73588.726663</td>\n",
       "      <td>6.143813e+07</td>\n",
       "      <td>20.00</td>\n",
       "      <td>True</td>\n",
       "    </tr>\n",
       "    <tr>\n",
       "      <th>2</th>\n",
       "      <td>2512244</td>\n",
       "      <td>512244 (2015 YE18)</td>\n",
       "      <td>0.722030</td>\n",
       "      <td>1.614507</td>\n",
       "      <td>114258.692129</td>\n",
       "      <td>4.979872e+07</td>\n",
       "      <td>17.83</td>\n",
       "      <td>False</td>\n",
       "    </tr>\n",
       "    <tr>\n",
       "      <th>3</th>\n",
       "      <td>3596030</td>\n",
       "      <td>(2012 BV13)</td>\n",
       "      <td>0.096506</td>\n",
       "      <td>0.215794</td>\n",
       "      <td>24764.303138</td>\n",
       "      <td>2.543497e+07</td>\n",
       "      <td>22.20</td>\n",
       "      <td>False</td>\n",
       "    </tr>\n",
       "    <tr>\n",
       "      <th>4</th>\n",
       "      <td>3667127</td>\n",
       "      <td>(2014 GE35)</td>\n",
       "      <td>0.255009</td>\n",
       "      <td>0.570217</td>\n",
       "      <td>42737.733765</td>\n",
       "      <td>4.627557e+07</td>\n",
       "      <td>20.09</td>\n",
       "      <td>True</td>\n",
       "    </tr>\n",
       "    <tr>\n",
       "      <th>5</th>\n",
       "      <td>54138696</td>\n",
       "      <td>(2021 GY23)</td>\n",
       "      <td>0.036354</td>\n",
       "      <td>0.081291</td>\n",
       "      <td>34297.587778</td>\n",
       "      <td>4.058569e+07</td>\n",
       "      <td>24.32</td>\n",
       "      <td>False</td>\n",
       "    </tr>\n",
       "    <tr>\n",
       "      <th>6</th>\n",
       "      <td>54189957</td>\n",
       "      <td>(2021 PY40)</td>\n",
       "      <td>0.171615</td>\n",
       "      <td>0.383743</td>\n",
       "      <td>27529.472307</td>\n",
       "      <td>2.906912e+07</td>\n",
       "      <td>20.95</td>\n",
       "      <td>False</td>\n",
       "    </tr>\n",
       "    <tr>\n",
       "      <th>7</th>\n",
       "      <td>54230078</td>\n",
       "      <td>(2021 XD6)</td>\n",
       "      <td>0.005328</td>\n",
       "      <td>0.011914</td>\n",
       "      <td>57544.470083</td>\n",
       "      <td>5.511502e+07</td>\n",
       "      <td>28.49</td>\n",
       "      <td>False</td>\n",
       "    </tr>\n",
       "    <tr>\n",
       "      <th>8</th>\n",
       "      <td>2088213</td>\n",
       "      <td>88213 (2001 AF2)</td>\n",
       "      <td>0.350393</td>\n",
       "      <td>0.783502</td>\n",
       "      <td>56625.210122</td>\n",
       "      <td>6.903598e+07</td>\n",
       "      <td>19.40</td>\n",
       "      <td>False</td>\n",
       "    </tr>\n",
       "    <tr>\n",
       "      <th>9</th>\n",
       "      <td>3766065</td>\n",
       "      <td>(2016 YM)</td>\n",
       "      <td>0.105817</td>\n",
       "      <td>0.236614</td>\n",
       "      <td>48425.840329</td>\n",
       "      <td>3.835526e+07</td>\n",
       "      <td>22.00</td>\n",
       "      <td>False</td>\n",
       "    </tr>\n",
       "  </tbody>\n",
       "</table>\n",
       "</div>"
      ],
      "text/plain": [
       "         id                 name  est_diameter_min  est_diameter_max  \\\n",
       "0   2162635  162635 (2000 SS164)          1.198271          2.679415   \n",
       "1   2277475    277475 (2005 WK4)          0.265800          0.594347   \n",
       "2   2512244   512244 (2015 YE18)          0.722030          1.614507   \n",
       "3   3596030          (2012 BV13)          0.096506          0.215794   \n",
       "4   3667127          (2014 GE35)          0.255009          0.570217   \n",
       "5  54138696          (2021 GY23)          0.036354          0.081291   \n",
       "6  54189957          (2021 PY40)          0.171615          0.383743   \n",
       "7  54230078           (2021 XD6)          0.005328          0.011914   \n",
       "8   2088213     88213 (2001 AF2)          0.350393          0.783502   \n",
       "9   3766065            (2016 YM)          0.105817          0.236614   \n",
       "\n",
       "   relative_velocity  miss_distance  absolute_magnitude  hazardous  \n",
       "0       13569.249224   5.483974e+07               16.73      False  \n",
       "1       73588.726663   6.143813e+07               20.00       True  \n",
       "2      114258.692129   4.979872e+07               17.83      False  \n",
       "3       24764.303138   2.543497e+07               22.20      False  \n",
       "4       42737.733765   4.627557e+07               20.09       True  \n",
       "5       34297.587778   4.058569e+07               24.32      False  \n",
       "6       27529.472307   2.906912e+07               20.95      False  \n",
       "7       57544.470083   5.511502e+07               28.49      False  \n",
       "8       56625.210122   6.903598e+07               19.40      False  \n",
       "9       48425.840329   3.835526e+07               22.00      False  "
      ]
     },
     "execution_count": 20,
     "metadata": {},
     "output_type": "execute_result"
    }
   ],
   "source": [
    "#Kontrol edelim.\n",
    "df_c.head(10)"
   ]
  },
  {
   "cell_type": "markdown",
   "id": "e966be0b",
   "metadata": {
    "papermill": {
     "duration": 0.025062,
     "end_time": "2024-11-23T15:50:26.681035",
     "exception": false,
     "start_time": "2024-11-23T15:50:26.655973",
     "status": "completed"
    },
    "tags": []
   },
   "source": [
    "**Son olarak,anlamlı bir etkisi olmayacağı ve her bir kayıt için zaten benzersiz bir id bulunduğu için \"name\" sütununu analizimiz dışında bırakabiliriz.**"
   ]
  },
  {
   "cell_type": "code",
   "execution_count": 21,
   "id": "13c0e83e",
   "metadata": {
    "execution": {
     "iopub.execute_input": "2024-11-23T15:50:26.728874Z",
     "iopub.status.busy": "2024-11-23T15:50:26.728465Z",
     "iopub.status.idle": "2024-11-23T15:50:26.740064Z",
     "shell.execute_reply": "2024-11-23T15:50:26.738592Z"
    },
    "papermill": {
     "duration": 0.038506,
     "end_time": "2024-11-23T15:50:26.742534",
     "exception": false,
     "start_time": "2024-11-23T15:50:26.704028",
     "status": "completed"
    },
    "tags": []
   },
   "outputs": [],
   "source": [
    "# Analiz için sadece gerekli sütunları seçelim.\n",
    "columns_to_use = [col for col in df_c.columns if col not in ['name']]\n",
    "\n",
    "#Sadece seçilen sütunların olduğu yeni bir dataframe oluşturduk.\n",
    "df = df_c[columns_to_use]\n"
   ]
  },
  {
   "cell_type": "code",
   "execution_count": 22,
   "id": "73f17799",
   "metadata": {
    "execution": {
     "iopub.execute_input": "2024-11-23T15:50:26.791630Z",
     "iopub.status.busy": "2024-11-23T15:50:26.790552Z",
     "iopub.status.idle": "2024-11-23T15:50:26.805389Z",
     "shell.execute_reply": "2024-11-23T15:50:26.804349Z"
    },
    "papermill": {
     "duration": 0.041584,
     "end_time": "2024-11-23T15:50:26.807653",
     "exception": false,
     "start_time": "2024-11-23T15:50:26.766069",
     "status": "completed"
    },
    "tags": []
   },
   "outputs": [
    {
     "data": {
      "text/html": [
       "<div>\n",
       "<style scoped>\n",
       "    .dataframe tbody tr th:only-of-type {\n",
       "        vertical-align: middle;\n",
       "    }\n",
       "\n",
       "    .dataframe tbody tr th {\n",
       "        vertical-align: top;\n",
       "    }\n",
       "\n",
       "    .dataframe thead th {\n",
       "        text-align: right;\n",
       "    }\n",
       "</style>\n",
       "<table border=\"1\" class=\"dataframe\">\n",
       "  <thead>\n",
       "    <tr style=\"text-align: right;\">\n",
       "      <th></th>\n",
       "      <th>id</th>\n",
       "      <th>est_diameter_min</th>\n",
       "      <th>est_diameter_max</th>\n",
       "      <th>relative_velocity</th>\n",
       "      <th>miss_distance</th>\n",
       "      <th>absolute_magnitude</th>\n",
       "      <th>hazardous</th>\n",
       "    </tr>\n",
       "  </thead>\n",
       "  <tbody>\n",
       "    <tr>\n",
       "      <th>0</th>\n",
       "      <td>2162635</td>\n",
       "      <td>1.198271</td>\n",
       "      <td>2.679415</td>\n",
       "      <td>13569.249224</td>\n",
       "      <td>5.483974e+07</td>\n",
       "      <td>16.73</td>\n",
       "      <td>False</td>\n",
       "    </tr>\n",
       "    <tr>\n",
       "      <th>1</th>\n",
       "      <td>2277475</td>\n",
       "      <td>0.265800</td>\n",
       "      <td>0.594347</td>\n",
       "      <td>73588.726663</td>\n",
       "      <td>6.143813e+07</td>\n",
       "      <td>20.00</td>\n",
       "      <td>True</td>\n",
       "    </tr>\n",
       "    <tr>\n",
       "      <th>2</th>\n",
       "      <td>2512244</td>\n",
       "      <td>0.722030</td>\n",
       "      <td>1.614507</td>\n",
       "      <td>114258.692129</td>\n",
       "      <td>4.979872e+07</td>\n",
       "      <td>17.83</td>\n",
       "      <td>False</td>\n",
       "    </tr>\n",
       "    <tr>\n",
       "      <th>3</th>\n",
       "      <td>3596030</td>\n",
       "      <td>0.096506</td>\n",
       "      <td>0.215794</td>\n",
       "      <td>24764.303138</td>\n",
       "      <td>2.543497e+07</td>\n",
       "      <td>22.20</td>\n",
       "      <td>False</td>\n",
       "    </tr>\n",
       "    <tr>\n",
       "      <th>4</th>\n",
       "      <td>3667127</td>\n",
       "      <td>0.255009</td>\n",
       "      <td>0.570217</td>\n",
       "      <td>42737.733765</td>\n",
       "      <td>4.627557e+07</td>\n",
       "      <td>20.09</td>\n",
       "      <td>True</td>\n",
       "    </tr>\n",
       "    <tr>\n",
       "      <th>5</th>\n",
       "      <td>54138696</td>\n",
       "      <td>0.036354</td>\n",
       "      <td>0.081291</td>\n",
       "      <td>34297.587778</td>\n",
       "      <td>4.058569e+07</td>\n",
       "      <td>24.32</td>\n",
       "      <td>False</td>\n",
       "    </tr>\n",
       "    <tr>\n",
       "      <th>6</th>\n",
       "      <td>54189957</td>\n",
       "      <td>0.171615</td>\n",
       "      <td>0.383743</td>\n",
       "      <td>27529.472307</td>\n",
       "      <td>2.906912e+07</td>\n",
       "      <td>20.95</td>\n",
       "      <td>False</td>\n",
       "    </tr>\n",
       "    <tr>\n",
       "      <th>7</th>\n",
       "      <td>54230078</td>\n",
       "      <td>0.005328</td>\n",
       "      <td>0.011914</td>\n",
       "      <td>57544.470083</td>\n",
       "      <td>5.511502e+07</td>\n",
       "      <td>28.49</td>\n",
       "      <td>False</td>\n",
       "    </tr>\n",
       "    <tr>\n",
       "      <th>8</th>\n",
       "      <td>2088213</td>\n",
       "      <td>0.350393</td>\n",
       "      <td>0.783502</td>\n",
       "      <td>56625.210122</td>\n",
       "      <td>6.903598e+07</td>\n",
       "      <td>19.40</td>\n",
       "      <td>False</td>\n",
       "    </tr>\n",
       "    <tr>\n",
       "      <th>9</th>\n",
       "      <td>3766065</td>\n",
       "      <td>0.105817</td>\n",
       "      <td>0.236614</td>\n",
       "      <td>48425.840329</td>\n",
       "      <td>3.835526e+07</td>\n",
       "      <td>22.00</td>\n",
       "      <td>False</td>\n",
       "    </tr>\n",
       "  </tbody>\n",
       "</table>\n",
       "</div>"
      ],
      "text/plain": [
       "         id  est_diameter_min  est_diameter_max  relative_velocity  \\\n",
       "0   2162635          1.198271          2.679415       13569.249224   \n",
       "1   2277475          0.265800          0.594347       73588.726663   \n",
       "2   2512244          0.722030          1.614507      114258.692129   \n",
       "3   3596030          0.096506          0.215794       24764.303138   \n",
       "4   3667127          0.255009          0.570217       42737.733765   \n",
       "5  54138696          0.036354          0.081291       34297.587778   \n",
       "6  54189957          0.171615          0.383743       27529.472307   \n",
       "7  54230078          0.005328          0.011914       57544.470083   \n",
       "8   2088213          0.350393          0.783502       56625.210122   \n",
       "9   3766065          0.105817          0.236614       48425.840329   \n",
       "\n",
       "   miss_distance  absolute_magnitude  hazardous  \n",
       "0   5.483974e+07               16.73      False  \n",
       "1   6.143813e+07               20.00       True  \n",
       "2   4.979872e+07               17.83      False  \n",
       "3   2.543497e+07               22.20      False  \n",
       "4   4.627557e+07               20.09       True  \n",
       "5   4.058569e+07               24.32      False  \n",
       "6   2.906912e+07               20.95      False  \n",
       "7   5.511502e+07               28.49      False  \n",
       "8   6.903598e+07               19.40      False  \n",
       "9   3.835526e+07               22.00      False  "
      ]
     },
     "execution_count": 22,
     "metadata": {},
     "output_type": "execute_result"
    }
   ],
   "source": [
    "df.head(10)"
   ]
  },
  {
   "cell_type": "code",
   "execution_count": 23,
   "id": "d73a0bbe",
   "metadata": {
    "execution": {
     "iopub.execute_input": "2024-11-23T15:50:26.859492Z",
     "iopub.status.busy": "2024-11-23T15:50:26.859065Z",
     "iopub.status.idle": "2024-11-23T15:50:26.918040Z",
     "shell.execute_reply": "2024-11-23T15:50:26.916693Z"
    },
    "papermill": {
     "duration": 0.087879,
     "end_time": "2024-11-23T15:50:26.920413",
     "exception": false,
     "start_time": "2024-11-23T15:50:26.832534",
     "status": "completed"
    },
    "tags": []
   },
   "outputs": [
    {
     "data": {
      "text/html": [
       "<div>\n",
       "<style scoped>\n",
       "    .dataframe tbody tr th:only-of-type {\n",
       "        vertical-align: middle;\n",
       "    }\n",
       "\n",
       "    .dataframe tbody tr th {\n",
       "        vertical-align: top;\n",
       "    }\n",
       "\n",
       "    .dataframe thead th {\n",
       "        text-align: right;\n",
       "    }\n",
       "</style>\n",
       "<table border=\"1\" class=\"dataframe\">\n",
       "  <thead>\n",
       "    <tr style=\"text-align: right;\">\n",
       "      <th></th>\n",
       "      <th>count</th>\n",
       "      <th>mean</th>\n",
       "      <th>std</th>\n",
       "      <th>min</th>\n",
       "      <th>25%</th>\n",
       "      <th>50%</th>\n",
       "      <th>75%</th>\n",
       "      <th>max</th>\n",
       "    </tr>\n",
       "  </thead>\n",
       "  <tbody>\n",
       "    <tr>\n",
       "      <th>id</th>\n",
       "      <td>90836.0</td>\n",
       "      <td>1.438288e+07</td>\n",
       "      <td>2.087202e+07</td>\n",
       "      <td>2.000433e+06</td>\n",
       "      <td>3.448110e+06</td>\n",
       "      <td>3.748362e+06</td>\n",
       "      <td>3.884023e+06</td>\n",
       "      <td>5.427591e+07</td>\n",
       "    </tr>\n",
       "    <tr>\n",
       "      <th>est_diameter_min</th>\n",
       "      <td>90836.0</td>\n",
       "      <td>1.274321e-01</td>\n",
       "      <td>2.985112e-01</td>\n",
       "      <td>6.089126e-04</td>\n",
       "      <td>1.925551e-02</td>\n",
       "      <td>4.836765e-02</td>\n",
       "      <td>1.434019e-01</td>\n",
       "      <td>3.789265e+01</td>\n",
       "    </tr>\n",
       "    <tr>\n",
       "      <th>est_diameter_max</th>\n",
       "      <td>90836.0</td>\n",
       "      <td>2.849469e-01</td>\n",
       "      <td>6.674914e-01</td>\n",
       "      <td>1.361570e-03</td>\n",
       "      <td>4.305662e-02</td>\n",
       "      <td>1.081534e-01</td>\n",
       "      <td>3.206564e-01</td>\n",
       "      <td>8.473054e+01</td>\n",
       "    </tr>\n",
       "    <tr>\n",
       "      <th>relative_velocity</th>\n",
       "      <td>90836.0</td>\n",
       "      <td>4.806692e+04</td>\n",
       "      <td>2.529330e+04</td>\n",
       "      <td>2.033464e+02</td>\n",
       "      <td>2.861902e+04</td>\n",
       "      <td>4.419012e+04</td>\n",
       "      <td>6.292360e+04</td>\n",
       "      <td>2.369901e+05</td>\n",
       "    </tr>\n",
       "    <tr>\n",
       "      <th>miss_distance</th>\n",
       "      <td>90836.0</td>\n",
       "      <td>3.706655e+07</td>\n",
       "      <td>2.235204e+07</td>\n",
       "      <td>6.745533e+03</td>\n",
       "      <td>1.721082e+07</td>\n",
       "      <td>3.784658e+07</td>\n",
       "      <td>5.654900e+07</td>\n",
       "      <td>7.479865e+07</td>\n",
       "    </tr>\n",
       "    <tr>\n",
       "      <th>absolute_magnitude</th>\n",
       "      <td>90836.0</td>\n",
       "      <td>2.352710e+01</td>\n",
       "      <td>2.894086e+00</td>\n",
       "      <td>9.230000e+00</td>\n",
       "      <td>2.134000e+01</td>\n",
       "      <td>2.370000e+01</td>\n",
       "      <td>2.570000e+01</td>\n",
       "      <td>3.320000e+01</td>\n",
       "    </tr>\n",
       "  </tbody>\n",
       "</table>\n",
       "</div>"
      ],
      "text/plain": [
       "                      count          mean           std           min  \\\n",
       "id                  90836.0  1.438288e+07  2.087202e+07  2.000433e+06   \n",
       "est_diameter_min    90836.0  1.274321e-01  2.985112e-01  6.089126e-04   \n",
       "est_diameter_max    90836.0  2.849469e-01  6.674914e-01  1.361570e-03   \n",
       "relative_velocity   90836.0  4.806692e+04  2.529330e+04  2.033464e+02   \n",
       "miss_distance       90836.0  3.706655e+07  2.235204e+07  6.745533e+03   \n",
       "absolute_magnitude  90836.0  2.352710e+01  2.894086e+00  9.230000e+00   \n",
       "\n",
       "                             25%           50%           75%           max  \n",
       "id                  3.448110e+06  3.748362e+06  3.884023e+06  5.427591e+07  \n",
       "est_diameter_min    1.925551e-02  4.836765e-02  1.434019e-01  3.789265e+01  \n",
       "est_diameter_max    4.305662e-02  1.081534e-01  3.206564e-01  8.473054e+01  \n",
       "relative_velocity   2.861902e+04  4.419012e+04  6.292360e+04  2.369901e+05  \n",
       "miss_distance       1.721082e+07  3.784658e+07  5.654900e+07  7.479865e+07  \n",
       "absolute_magnitude  2.134000e+01  2.370000e+01  2.570000e+01  3.320000e+01  "
      ]
     },
     "execution_count": 23,
     "metadata": {},
     "output_type": "execute_result"
    }
   ],
   "source": [
    "#Sürekli değişkenler hakkında bazı istatistiklere bakalım.\n",
    "df.describe().T #transpoze "
   ]
  },
  {
   "cell_type": "markdown",
   "id": "995faa42",
   "metadata": {
    "papermill": {
     "duration": 0.023659,
     "end_time": "2024-11-23T15:50:26.967854",
     "exception": false,
     "start_time": "2024-11-23T15:50:26.944195",
     "status": "completed"
    },
    "tags": []
   },
   "source": [
    "Sırasıyla: veri sayısı-ortalama-standart sapma- minimum değer- 25lik yüzdelik dilim-50lik yüzdelik dilim- 75lik yüzdelik dilim-maksimum değer\n"
   ]
  },
  {
   "cell_type": "markdown",
   "id": "b3d21d83",
   "metadata": {
    "papermill": {
     "duration": 0.023494,
     "end_time": "2024-11-23T15:50:27.015177",
     "exception": false,
     "start_time": "2024-11-23T15:50:26.991683",
     "status": "completed"
    },
    "tags": []
   },
   "source": [
    "#   **4.Eksik Veri Analizi** "
   ]
  },
  {
   "cell_type": "code",
   "execution_count": 24,
   "id": "a286c7ed",
   "metadata": {
    "execution": {
     "iopub.execute_input": "2024-11-23T15:50:27.066134Z",
     "iopub.status.busy": "2024-11-23T15:50:27.065153Z",
     "iopub.status.idle": "2024-11-23T15:50:27.074822Z",
     "shell.execute_reply": "2024-11-23T15:50:27.073716Z"
    },
    "papermill": {
     "duration": 0.037041,
     "end_time": "2024-11-23T15:50:27.077187",
     "exception": false,
     "start_time": "2024-11-23T15:50:27.040146",
     "status": "completed"
    },
    "tags": []
   },
   "outputs": [
    {
     "data": {
      "text/plain": [
       "id                    0\n",
       "est_diameter_min      0\n",
       "est_diameter_max      0\n",
       "relative_velocity     0\n",
       "miss_distance         0\n",
       "absolute_magnitude    0\n",
       "hazardous             0\n",
       "dtype: int64"
      ]
     },
     "execution_count": 24,
     "metadata": {},
     "output_type": "execute_result"
    }
   ],
   "source": [
    "#Her sütunda varsa kaçar tane null değer olduğunu görelim.\n",
    "df.isnull().sum()"
   ]
  },
  {
   "cell_type": "code",
   "execution_count": 25,
   "id": "564505c8",
   "metadata": {
    "execution": {
     "iopub.execute_input": "2024-11-23T15:50:27.128255Z",
     "iopub.status.busy": "2024-11-23T15:50:27.127462Z",
     "iopub.status.idle": "2024-11-23T15:50:27.135717Z",
     "shell.execute_reply": "2024-11-23T15:50:27.134473Z"
    },
    "papermill": {
     "duration": 0.03661,
     "end_time": "2024-11-23T15:50:27.138276",
     "exception": false,
     "start_time": "2024-11-23T15:50:27.101666",
     "status": "completed"
    },
    "tags": []
   },
   "outputs": [
    {
     "data": {
      "text/plain": [
       "0"
      ]
     },
     "execution_count": 25,
     "metadata": {},
     "output_type": "execute_result"
    }
   ],
   "source": [
    "#Tüm veri setindeki toplam eksik değer sayısı\n",
    "df.isnull().sum().sum()"
   ]
  },
  {
   "cell_type": "markdown",
   "id": "402d2047",
   "metadata": {
    "papermill": {
     "duration": 0.023777,
     "end_time": "2024-11-23T15:50:27.186251",
     "exception": false,
     "start_time": "2024-11-23T15:50:27.162474",
     "status": "completed"
    },
    "tags": []
   },
   "source": [
    "# **4.1.Veri Setine NaN Değerler Eklenmesi**"
   ]
  },
  {
   "cell_type": "code",
   "execution_count": 26,
   "id": "0789c2b0",
   "metadata": {
    "execution": {
     "iopub.execute_input": "2024-11-23T15:50:27.236217Z",
     "iopub.status.busy": "2024-11-23T15:50:27.235789Z",
     "iopub.status.idle": "2024-11-23T15:50:27.351719Z",
     "shell.execute_reply": "2024-11-23T15:50:27.350723Z"
    },
    "papermill": {
     "duration": 0.143701,
     "end_time": "2024-11-23T15:50:27.354090",
     "exception": false,
     "start_time": "2024-11-23T15:50:27.210389",
     "status": "completed"
    },
    "tags": []
   },
   "outputs": [],
   "source": [
    "import random\n",
    "#Random eksik değerler ekleme fonksiyonu\n",
    "def add_random_missing_values(dataframe: pd.DataFrame,\n",
    "                              missing_rate: float = 0.01,\n",
    "                              seed: random = 42) -> pd.DataFrame:\n",
    "    # Get copy of dataframe\n",
    "    df_missing = dataframe.copy()\n",
    "    \n",
    "    # Obtain size of dataframe and number total number of missing values\n",
    "    df_size = dataframe.size\n",
    "    num_missing = int(df_size * missing_rate)\n",
    "    \n",
    "    if seed:\n",
    "        random.seed(seed)\n",
    "        \n",
    "        \n",
    "    for _ in range(num_missing):\n",
    "        row_idx = random.randint(0, dataframe.shape[0] - 1)\n",
    "        col_idx = random.randint(0, dataframe.shape[1] - 1)\n",
    "\n",
    "        df_missing.iat[row_idx, col_idx] = np.nan\n",
    "        \n",
    "    return df_missing\n",
    "\n",
    "df= add_random_missing_values(dataframe = df,\n",
    "                               missing_rate = 0.01)\n",
    "    "
   ]
  },
  {
   "cell_type": "markdown",
   "id": "80a7d7c6",
   "metadata": {
    "papermill": {
     "duration": 0.023753,
     "end_time": "2024-11-23T15:50:27.402203",
     "exception": false,
     "start_time": "2024-11-23T15:50:27.378450",
     "status": "completed"
    },
    "tags": []
   },
   "source": [
    "**Veri setimizin son halini kontrol edelim.**"
   ]
  },
  {
   "cell_type": "code",
   "execution_count": 27,
   "id": "e5f6f1df",
   "metadata": {
    "execution": {
     "iopub.execute_input": "2024-11-23T15:50:27.452413Z",
     "iopub.status.busy": "2024-11-23T15:50:27.451591Z",
     "iopub.status.idle": "2024-11-23T15:50:27.467089Z",
     "shell.execute_reply": "2024-11-23T15:50:27.465917Z"
    },
    "papermill": {
     "duration": 0.042967,
     "end_time": "2024-11-23T15:50:27.469181",
     "exception": false,
     "start_time": "2024-11-23T15:50:27.426214",
     "status": "completed"
    },
    "tags": []
   },
   "outputs": [
    {
     "data": {
      "text/html": [
       "<div>\n",
       "<style scoped>\n",
       "    .dataframe tbody tr th:only-of-type {\n",
       "        vertical-align: middle;\n",
       "    }\n",
       "\n",
       "    .dataframe tbody tr th {\n",
       "        vertical-align: top;\n",
       "    }\n",
       "\n",
       "    .dataframe thead th {\n",
       "        text-align: right;\n",
       "    }\n",
       "</style>\n",
       "<table border=\"1\" class=\"dataframe\">\n",
       "  <thead>\n",
       "    <tr style=\"text-align: right;\">\n",
       "      <th></th>\n",
       "      <th>id</th>\n",
       "      <th>est_diameter_min</th>\n",
       "      <th>est_diameter_max</th>\n",
       "      <th>relative_velocity</th>\n",
       "      <th>miss_distance</th>\n",
       "      <th>absolute_magnitude</th>\n",
       "      <th>hazardous</th>\n",
       "    </tr>\n",
       "  </thead>\n",
       "  <tbody>\n",
       "    <tr>\n",
       "      <th>0</th>\n",
       "      <td>2162635.0</td>\n",
       "      <td>1.198271</td>\n",
       "      <td>2.679415</td>\n",
       "      <td>13569.249224</td>\n",
       "      <td>5.483974e+07</td>\n",
       "      <td>16.73</td>\n",
       "      <td>False</td>\n",
       "    </tr>\n",
       "    <tr>\n",
       "      <th>1</th>\n",
       "      <td>2277475.0</td>\n",
       "      <td>0.265800</td>\n",
       "      <td>0.594347</td>\n",
       "      <td>73588.726663</td>\n",
       "      <td>6.143813e+07</td>\n",
       "      <td>20.00</td>\n",
       "      <td>True</td>\n",
       "    </tr>\n",
       "    <tr>\n",
       "      <th>2</th>\n",
       "      <td>2512244.0</td>\n",
       "      <td>0.722030</td>\n",
       "      <td>1.614507</td>\n",
       "      <td>114258.692129</td>\n",
       "      <td>4.979872e+07</td>\n",
       "      <td>17.83</td>\n",
       "      <td>False</td>\n",
       "    </tr>\n",
       "    <tr>\n",
       "      <th>3</th>\n",
       "      <td>3596030.0</td>\n",
       "      <td>0.096506</td>\n",
       "      <td>0.215794</td>\n",
       "      <td>24764.303138</td>\n",
       "      <td>2.543497e+07</td>\n",
       "      <td>22.20</td>\n",
       "      <td>False</td>\n",
       "    </tr>\n",
       "    <tr>\n",
       "      <th>4</th>\n",
       "      <td>3667127.0</td>\n",
       "      <td>0.255009</td>\n",
       "      <td>0.570217</td>\n",
       "      <td>42737.733765</td>\n",
       "      <td>4.627557e+07</td>\n",
       "      <td>20.09</td>\n",
       "      <td>True</td>\n",
       "    </tr>\n",
       "    <tr>\n",
       "      <th>5</th>\n",
       "      <td>54138696.0</td>\n",
       "      <td>0.036354</td>\n",
       "      <td>0.081291</td>\n",
       "      <td>34297.587778</td>\n",
       "      <td>4.058569e+07</td>\n",
       "      <td>24.32</td>\n",
       "      <td>False</td>\n",
       "    </tr>\n",
       "    <tr>\n",
       "      <th>6</th>\n",
       "      <td>54189957.0</td>\n",
       "      <td>0.171615</td>\n",
       "      <td>0.383743</td>\n",
       "      <td>27529.472307</td>\n",
       "      <td>2.906912e+07</td>\n",
       "      <td>20.95</td>\n",
       "      <td>False</td>\n",
       "    </tr>\n",
       "    <tr>\n",
       "      <th>7</th>\n",
       "      <td>54230078.0</td>\n",
       "      <td>0.005328</td>\n",
       "      <td>0.011914</td>\n",
       "      <td>57544.470083</td>\n",
       "      <td>5.511502e+07</td>\n",
       "      <td>28.49</td>\n",
       "      <td>False</td>\n",
       "    </tr>\n",
       "    <tr>\n",
       "      <th>8</th>\n",
       "      <td>2088213.0</td>\n",
       "      <td>0.350393</td>\n",
       "      <td>0.783502</td>\n",
       "      <td>56625.210122</td>\n",
       "      <td>6.903598e+07</td>\n",
       "      <td>19.40</td>\n",
       "      <td>False</td>\n",
       "    </tr>\n",
       "    <tr>\n",
       "      <th>9</th>\n",
       "      <td>3766065.0</td>\n",
       "      <td>0.105817</td>\n",
       "      <td>0.236614</td>\n",
       "      <td>48425.840329</td>\n",
       "      <td>3.835526e+07</td>\n",
       "      <td>22.00</td>\n",
       "      <td>False</td>\n",
       "    </tr>\n",
       "  </tbody>\n",
       "</table>\n",
       "</div>"
      ],
      "text/plain": [
       "           id  est_diameter_min  est_diameter_max  relative_velocity  \\\n",
       "0   2162635.0          1.198271          2.679415       13569.249224   \n",
       "1   2277475.0          0.265800          0.594347       73588.726663   \n",
       "2   2512244.0          0.722030          1.614507      114258.692129   \n",
       "3   3596030.0          0.096506          0.215794       24764.303138   \n",
       "4   3667127.0          0.255009          0.570217       42737.733765   \n",
       "5  54138696.0          0.036354          0.081291       34297.587778   \n",
       "6  54189957.0          0.171615          0.383743       27529.472307   \n",
       "7  54230078.0          0.005328          0.011914       57544.470083   \n",
       "8   2088213.0          0.350393          0.783502       56625.210122   \n",
       "9   3766065.0          0.105817          0.236614       48425.840329   \n",
       "\n",
       "   miss_distance  absolute_magnitude hazardous  \n",
       "0   5.483974e+07               16.73     False  \n",
       "1   6.143813e+07               20.00      True  \n",
       "2   4.979872e+07               17.83     False  \n",
       "3   2.543497e+07               22.20     False  \n",
       "4   4.627557e+07               20.09      True  \n",
       "5   4.058569e+07               24.32     False  \n",
       "6   2.906912e+07               20.95     False  \n",
       "7   5.511502e+07               28.49     False  \n",
       "8   6.903598e+07               19.40     False  \n",
       "9   3.835526e+07               22.00     False  "
      ]
     },
     "execution_count": 27,
     "metadata": {},
     "output_type": "execute_result"
    }
   ],
   "source": [
    "df.head(10)"
   ]
  },
  {
   "cell_type": "code",
   "execution_count": 28,
   "id": "95ec1414",
   "metadata": {
    "execution": {
     "iopub.execute_input": "2024-11-23T15:50:27.521899Z",
     "iopub.status.busy": "2024-11-23T15:50:27.521525Z",
     "iopub.status.idle": "2024-11-23T15:50:27.535928Z",
     "shell.execute_reply": "2024-11-23T15:50:27.534859Z"
    },
    "papermill": {
     "duration": 0.044334,
     "end_time": "2024-11-23T15:50:27.538203",
     "exception": false,
     "start_time": "2024-11-23T15:50:27.493869",
     "status": "completed"
    },
    "tags": []
   },
   "outputs": [
    {
     "data": {
      "text/plain": [
       "id                    True\n",
       "est_diameter_min      True\n",
       "est_diameter_max      True\n",
       "relative_velocity     True\n",
       "miss_distance         True\n",
       "absolute_magnitude    True\n",
       "hazardous             True\n",
       "dtype: bool"
      ]
     },
     "execution_count": 28,
     "metadata": {},
     "output_type": "execute_result"
    }
   ],
   "source": [
    "#Eksik değer olup olmadığını boolean olarak görelim.\n",
    "df.isnull().any()"
   ]
  },
  {
   "cell_type": "code",
   "execution_count": 29,
   "id": "cc1d6034",
   "metadata": {
    "execution": {
     "iopub.execute_input": "2024-11-23T15:50:27.589118Z",
     "iopub.status.busy": "2024-11-23T15:50:27.588724Z",
     "iopub.status.idle": "2024-11-23T15:50:27.603442Z",
     "shell.execute_reply": "2024-11-23T15:50:27.602415Z"
    },
    "papermill": {
     "duration": 0.042871,
     "end_time": "2024-11-23T15:50:27.605743",
     "exception": false,
     "start_time": "2024-11-23T15:50:27.562872",
     "status": "completed"
    },
    "tags": []
   },
   "outputs": [
    {
     "data": {
      "text/plain": [
       "id                    874\n",
       "est_diameter_min      912\n",
       "est_diameter_max      903\n",
       "relative_velocity     905\n",
       "miss_distance         888\n",
       "absolute_magnitude    935\n",
       "hazardous             908\n",
       "dtype: int64"
      ]
     },
     "execution_count": 29,
     "metadata": {},
     "output_type": "execute_result"
    }
   ],
   "source": [
    "#Her sütundaki eksik değer sayısını görelim.\n",
    "df.isnull().sum()"
   ]
  },
  {
   "cell_type": "code",
   "execution_count": 30,
   "id": "7241ca61",
   "metadata": {
    "execution": {
     "iopub.execute_input": "2024-11-23T15:50:27.656576Z",
     "iopub.status.busy": "2024-11-23T15:50:27.656162Z",
     "iopub.status.idle": "2024-11-23T15:50:27.670188Z",
     "shell.execute_reply": "2024-11-23T15:50:27.669172Z"
    },
    "papermill": {
     "duration": 0.041673,
     "end_time": "2024-11-23T15:50:27.672299",
     "exception": false,
     "start_time": "2024-11-23T15:50:27.630626",
     "status": "completed"
    },
    "tags": []
   },
   "outputs": [
    {
     "data": {
      "text/plain": [
       "6325"
      ]
     },
     "execution_count": 30,
     "metadata": {},
     "output_type": "execute_result"
    }
   ],
   "source": [
    "#Toplam eksik değer sayısı\n",
    "df.isnull().sum().sum()"
   ]
  },
  {
   "cell_type": "code",
   "execution_count": 31,
   "id": "77509389",
   "metadata": {
    "execution": {
     "iopub.execute_input": "2024-11-23T15:50:27.723558Z",
     "iopub.status.busy": "2024-11-23T15:50:27.722621Z",
     "iopub.status.idle": "2024-11-23T15:50:27.736167Z",
     "shell.execute_reply": "2024-11-23T15:50:27.735150Z"
    },
    "papermill": {
     "duration": 0.041687,
     "end_time": "2024-11-23T15:50:27.738436",
     "exception": false,
     "start_time": "2024-11-23T15:50:27.696749",
     "status": "completed"
    },
    "tags": []
   },
   "outputs": [
    {
     "data": {
      "text/plain": [
       "id                    True\n",
       "est_diameter_min      True\n",
       "est_diameter_max      True\n",
       "relative_velocity     True\n",
       "miss_distance         True\n",
       "absolute_magnitude    True\n",
       "hazardous             True\n",
       "dtype: bool"
      ]
     },
     "execution_count": 31,
     "metadata": {},
     "output_type": "execute_result"
    }
   ],
   "source": [
    "df.isnull().any()\n"
   ]
  },
  {
   "cell_type": "code",
   "execution_count": 32,
   "id": "cb98b5b5",
   "metadata": {
    "execution": {
     "iopub.execute_input": "2024-11-23T15:50:27.789376Z",
     "iopub.status.busy": "2024-11-23T15:50:27.788926Z",
     "iopub.status.idle": "2024-11-23T15:50:27.812293Z",
     "shell.execute_reply": "2024-11-23T15:50:27.811261Z"
    },
    "papermill": {
     "duration": 0.051647,
     "end_time": "2024-11-23T15:50:27.814716",
     "exception": false,
     "start_time": "2024-11-23T15:50:27.763069",
     "status": "completed"
    },
    "tags": []
   },
   "outputs": [
    {
     "data": {
      "text/html": [
       "<div>\n",
       "<style scoped>\n",
       "    .dataframe tbody tr th:only-of-type {\n",
       "        vertical-align: middle;\n",
       "    }\n",
       "\n",
       "    .dataframe tbody tr th {\n",
       "        vertical-align: top;\n",
       "    }\n",
       "\n",
       "    .dataframe thead th {\n",
       "        text-align: right;\n",
       "    }\n",
       "</style>\n",
       "<table border=\"1\" class=\"dataframe\">\n",
       "  <thead>\n",
       "    <tr style=\"text-align: right;\">\n",
       "      <th></th>\n",
       "      <th>id</th>\n",
       "      <th>est_diameter_min</th>\n",
       "      <th>est_diameter_max</th>\n",
       "      <th>relative_velocity</th>\n",
       "      <th>miss_distance</th>\n",
       "      <th>absolute_magnitude</th>\n",
       "      <th>hazardous</th>\n",
       "    </tr>\n",
       "  </thead>\n",
       "  <tbody>\n",
       "    <tr>\n",
       "      <th>22</th>\n",
       "      <td>54053939.0</td>\n",
       "      <td>0.003052</td>\n",
       "      <td>0.006824</td>\n",
       "      <td>47644.448463</td>\n",
       "      <td>5.294885e+07</td>\n",
       "      <td>29.70</td>\n",
       "      <td>NaN</td>\n",
       "    </tr>\n",
       "    <tr>\n",
       "      <th>24</th>\n",
       "      <td>3329370.0</td>\n",
       "      <td>0.050647</td>\n",
       "      <td>0.113250</td>\n",
       "      <td>33803.166561</td>\n",
       "      <td>7.039487e+07</td>\n",
       "      <td>23.60</td>\n",
       "      <td>NaN</td>\n",
       "    </tr>\n",
       "    <tr>\n",
       "      <th>37</th>\n",
       "      <td>54235525.0</td>\n",
       "      <td>NaN</td>\n",
       "      <td>0.012649</td>\n",
       "      <td>62986.288326</td>\n",
       "      <td>3.112155e+07</td>\n",
       "      <td>28.36</td>\n",
       "      <td>False</td>\n",
       "    </tr>\n",
       "    <tr>\n",
       "      <th>53</th>\n",
       "      <td>3624232.0</td>\n",
       "      <td>0.334622</td>\n",
       "      <td>NaN</td>\n",
       "      <td>178961.517632</td>\n",
       "      <td>7.062110e+07</td>\n",
       "      <td>19.50</td>\n",
       "      <td>False</td>\n",
       "    </tr>\n",
       "    <tr>\n",
       "      <th>71</th>\n",
       "      <td>NaN</td>\n",
       "      <td>0.040230</td>\n",
       "      <td>0.089958</td>\n",
       "      <td>56257.766419</td>\n",
       "      <td>1.572924e+07</td>\n",
       "      <td>24.10</td>\n",
       "      <td>False</td>\n",
       "    </tr>\n",
       "    <tr>\n",
       "      <th>...</th>\n",
       "      <td>...</td>\n",
       "      <td>...</td>\n",
       "      <td>...</td>\n",
       "      <td>...</td>\n",
       "      <td>...</td>\n",
       "      <td>...</td>\n",
       "      <td>...</td>\n",
       "    </tr>\n",
       "    <tr>\n",
       "      <th>90739</th>\n",
       "      <td>54091650.0</td>\n",
       "      <td>0.221083</td>\n",
       "      <td>0.494356</td>\n",
       "      <td>108873.298914</td>\n",
       "      <td>NaN</td>\n",
       "      <td>20.40</td>\n",
       "      <td>False</td>\n",
       "    </tr>\n",
       "    <tr>\n",
       "      <th>90811</th>\n",
       "      <td>NaN</td>\n",
       "      <td>0.356907</td>\n",
       "      <td>0.798068</td>\n",
       "      <td>33008.617883</td>\n",
       "      <td>7.189835e+07</td>\n",
       "      <td>19.36</td>\n",
       "      <td>True</td>\n",
       "    </tr>\n",
       "    <tr>\n",
       "      <th>90812</th>\n",
       "      <td>2377732.0</td>\n",
       "      <td>1.034082</td>\n",
       "      <td>2.312278</td>\n",
       "      <td>53362.798148</td>\n",
       "      <td>4.756627e+07</td>\n",
       "      <td>17.05</td>\n",
       "      <td>NaN</td>\n",
       "    </tr>\n",
       "    <tr>\n",
       "      <th>90814</th>\n",
       "      <td>3713903.0</td>\n",
       "      <td>0.300992</td>\n",
       "      <td>0.673039</td>\n",
       "      <td>67655.563370</td>\n",
       "      <td>6.751135e+07</td>\n",
       "      <td>NaN</td>\n",
       "      <td>False</td>\n",
       "    </tr>\n",
       "    <tr>\n",
       "      <th>90831</th>\n",
       "      <td>3763337.0</td>\n",
       "      <td>0.026580</td>\n",
       "      <td>0.059435</td>\n",
       "      <td>52078.886692</td>\n",
       "      <td>1.230039e+07</td>\n",
       "      <td>NaN</td>\n",
       "      <td>False</td>\n",
       "    </tr>\n",
       "  </tbody>\n",
       "</table>\n",
       "<p>6124 rows × 7 columns</p>\n",
       "</div>"
      ],
      "text/plain": [
       "               id  est_diameter_min  est_diameter_max  relative_velocity  \\\n",
       "22     54053939.0          0.003052          0.006824       47644.448463   \n",
       "24      3329370.0          0.050647          0.113250       33803.166561   \n",
       "37     54235525.0               NaN          0.012649       62986.288326   \n",
       "53      3624232.0          0.334622               NaN      178961.517632   \n",
       "71            NaN          0.040230          0.089958       56257.766419   \n",
       "...           ...               ...               ...                ...   \n",
       "90739  54091650.0          0.221083          0.494356      108873.298914   \n",
       "90811         NaN          0.356907          0.798068       33008.617883   \n",
       "90812   2377732.0          1.034082          2.312278       53362.798148   \n",
       "90814   3713903.0          0.300992          0.673039       67655.563370   \n",
       "90831   3763337.0          0.026580          0.059435       52078.886692   \n",
       "\n",
       "       miss_distance  absolute_magnitude hazardous  \n",
       "22      5.294885e+07               29.70       NaN  \n",
       "24      7.039487e+07               23.60       NaN  \n",
       "37      3.112155e+07               28.36     False  \n",
       "53      7.062110e+07               19.50     False  \n",
       "71      1.572924e+07               24.10     False  \n",
       "...              ...                 ...       ...  \n",
       "90739            NaN               20.40     False  \n",
       "90811   7.189835e+07               19.36      True  \n",
       "90812   4.756627e+07               17.05       NaN  \n",
       "90814   6.751135e+07                 NaN     False  \n",
       "90831   1.230039e+07                 NaN     False  \n",
       "\n",
       "[6124 rows x 7 columns]"
      ]
     },
     "execution_count": 32,
     "metadata": {},
     "output_type": "execute_result"
    }
   ],
   "source": [
    "#En az bir veri eksiği olan kayıtlar\n",
    "df[df.isnull().any(axis = 1)]\n"
   ]
  },
  {
   "cell_type": "code",
   "execution_count": 33,
   "id": "c8c78b7a",
   "metadata": {
    "execution": {
     "iopub.execute_input": "2024-11-23T15:50:27.868385Z",
     "iopub.status.busy": "2024-11-23T15:50:27.867283Z",
     "iopub.status.idle": "2024-11-23T15:50:27.900892Z",
     "shell.execute_reply": "2024-11-23T15:50:27.899716Z"
    },
    "papermill": {
     "duration": 0.062461,
     "end_time": "2024-11-23T15:50:27.903303",
     "exception": false,
     "start_time": "2024-11-23T15:50:27.840842",
     "status": "completed"
    },
    "tags": []
   },
   "outputs": [
    {
     "data": {
      "text/html": [
       "<div>\n",
       "<style scoped>\n",
       "    .dataframe tbody tr th:only-of-type {\n",
       "        vertical-align: middle;\n",
       "    }\n",
       "\n",
       "    .dataframe tbody tr th {\n",
       "        vertical-align: top;\n",
       "    }\n",
       "\n",
       "    .dataframe thead th {\n",
       "        text-align: right;\n",
       "    }\n",
       "</style>\n",
       "<table border=\"1\" class=\"dataframe\">\n",
       "  <thead>\n",
       "    <tr style=\"text-align: right;\">\n",
       "      <th></th>\n",
       "      <th>id</th>\n",
       "      <th>est_diameter_min</th>\n",
       "      <th>est_diameter_max</th>\n",
       "      <th>relative_velocity</th>\n",
       "      <th>miss_distance</th>\n",
       "      <th>absolute_magnitude</th>\n",
       "      <th>hazardous</th>\n",
       "    </tr>\n",
       "  </thead>\n",
       "  <tbody>\n",
       "    <tr>\n",
       "      <th>0</th>\n",
       "      <td>2162635.0</td>\n",
       "      <td>1.198271</td>\n",
       "      <td>2.679415</td>\n",
       "      <td>13569.249224</td>\n",
       "      <td>5.483974e+07</td>\n",
       "      <td>16.73</td>\n",
       "      <td>False</td>\n",
       "    </tr>\n",
       "    <tr>\n",
       "      <th>1</th>\n",
       "      <td>2277475.0</td>\n",
       "      <td>0.265800</td>\n",
       "      <td>0.594347</td>\n",
       "      <td>73588.726663</td>\n",
       "      <td>6.143813e+07</td>\n",
       "      <td>20.00</td>\n",
       "      <td>True</td>\n",
       "    </tr>\n",
       "    <tr>\n",
       "      <th>2</th>\n",
       "      <td>2512244.0</td>\n",
       "      <td>0.722030</td>\n",
       "      <td>1.614507</td>\n",
       "      <td>114258.692129</td>\n",
       "      <td>4.979872e+07</td>\n",
       "      <td>17.83</td>\n",
       "      <td>False</td>\n",
       "    </tr>\n",
       "    <tr>\n",
       "      <th>3</th>\n",
       "      <td>3596030.0</td>\n",
       "      <td>0.096506</td>\n",
       "      <td>0.215794</td>\n",
       "      <td>24764.303138</td>\n",
       "      <td>2.543497e+07</td>\n",
       "      <td>22.20</td>\n",
       "      <td>False</td>\n",
       "    </tr>\n",
       "    <tr>\n",
       "      <th>4</th>\n",
       "      <td>3667127.0</td>\n",
       "      <td>0.255009</td>\n",
       "      <td>0.570217</td>\n",
       "      <td>42737.733765</td>\n",
       "      <td>4.627557e+07</td>\n",
       "      <td>20.09</td>\n",
       "      <td>True</td>\n",
       "    </tr>\n",
       "    <tr>\n",
       "      <th>...</th>\n",
       "      <td>...</td>\n",
       "      <td>...</td>\n",
       "      <td>...</td>\n",
       "      <td>...</td>\n",
       "      <td>...</td>\n",
       "      <td>...</td>\n",
       "      <td>...</td>\n",
       "    </tr>\n",
       "    <tr>\n",
       "      <th>90831</th>\n",
       "      <td>3763337.0</td>\n",
       "      <td>0.026580</td>\n",
       "      <td>0.059435</td>\n",
       "      <td>52078.886692</td>\n",
       "      <td>1.230039e+07</td>\n",
       "      <td>NaN</td>\n",
       "      <td>False</td>\n",
       "    </tr>\n",
       "    <tr>\n",
       "      <th>90832</th>\n",
       "      <td>3837603.0</td>\n",
       "      <td>0.016771</td>\n",
       "      <td>0.037501</td>\n",
       "      <td>46114.605073</td>\n",
       "      <td>5.432121e+07</td>\n",
       "      <td>26.00</td>\n",
       "      <td>False</td>\n",
       "    </tr>\n",
       "    <tr>\n",
       "      <th>90833</th>\n",
       "      <td>54017201.0</td>\n",
       "      <td>0.031956</td>\n",
       "      <td>0.071456</td>\n",
       "      <td>7566.807732</td>\n",
       "      <td>2.840077e+07</td>\n",
       "      <td>24.60</td>\n",
       "      <td>False</td>\n",
       "    </tr>\n",
       "    <tr>\n",
       "      <th>90834</th>\n",
       "      <td>54115824.0</td>\n",
       "      <td>0.007321</td>\n",
       "      <td>0.016370</td>\n",
       "      <td>69199.154484</td>\n",
       "      <td>6.869206e+07</td>\n",
       "      <td>27.80</td>\n",
       "      <td>False</td>\n",
       "    </tr>\n",
       "    <tr>\n",
       "      <th>90835</th>\n",
       "      <td>54205447.0</td>\n",
       "      <td>0.039862</td>\n",
       "      <td>0.089133</td>\n",
       "      <td>27024.455553</td>\n",
       "      <td>5.977213e+07</td>\n",
       "      <td>24.12</td>\n",
       "      <td>False</td>\n",
       "    </tr>\n",
       "  </tbody>\n",
       "</table>\n",
       "<p>90836 rows × 7 columns</p>\n",
       "</div>"
      ],
      "text/plain": [
       "               id  est_diameter_min  est_diameter_max  relative_velocity  \\\n",
       "0       2162635.0          1.198271          2.679415       13569.249224   \n",
       "1       2277475.0          0.265800          0.594347       73588.726663   \n",
       "2       2512244.0          0.722030          1.614507      114258.692129   \n",
       "3       3596030.0          0.096506          0.215794       24764.303138   \n",
       "4       3667127.0          0.255009          0.570217       42737.733765   \n",
       "...           ...               ...               ...                ...   \n",
       "90831   3763337.0          0.026580          0.059435       52078.886692   \n",
       "90832   3837603.0          0.016771          0.037501       46114.605073   \n",
       "90833  54017201.0          0.031956          0.071456        7566.807732   \n",
       "90834  54115824.0          0.007321          0.016370       69199.154484   \n",
       "90835  54205447.0          0.039862          0.089133       27024.455553   \n",
       "\n",
       "       miss_distance  absolute_magnitude hazardous  \n",
       "0       5.483974e+07               16.73     False  \n",
       "1       6.143813e+07               20.00      True  \n",
       "2       4.979872e+07               17.83     False  \n",
       "3       2.543497e+07               22.20     False  \n",
       "4       4.627557e+07               20.09      True  \n",
       "...              ...                 ...       ...  \n",
       "90831   1.230039e+07                 NaN     False  \n",
       "90832   5.432121e+07               26.00     False  \n",
       "90833   2.840077e+07               24.60     False  \n",
       "90834   6.869206e+07               27.80     False  \n",
       "90835   5.977213e+07               24.12     False  \n",
       "\n",
       "[90836 rows x 7 columns]"
      ]
     },
     "execution_count": 33,
     "metadata": {},
     "output_type": "execute_result"
    }
   ],
   "source": [
    "#Hiç eksik değeri olmayan kayıtlar\n",
    "df[df.notnull().any(axis = 1)]"
   ]
  },
  {
   "cell_type": "code",
   "execution_count": 34,
   "id": "7161378b",
   "metadata": {
    "execution": {
     "iopub.execute_input": "2024-11-23T15:50:27.956534Z",
     "iopub.status.busy": "2024-11-23T15:50:27.956110Z",
     "iopub.status.idle": "2024-11-23T15:50:28.212387Z",
     "shell.execute_reply": "2024-11-23T15:50:28.211221Z"
    },
    "papermill": {
     "duration": 0.285607,
     "end_time": "2024-11-23T15:50:28.214919",
     "exception": false,
     "start_time": "2024-11-23T15:50:27.929312",
     "status": "completed"
    },
    "tags": []
   },
   "outputs": [
    {
     "data": {
      "image/png": "[encoded data removed]",
      "text/plain": [
       "<Figure size 800x500 with 1 Axes>"
      ]
     },
     "metadata": {},
     "output_type": "display_data"
    }
   ],
   "source": [
    "# Eksik değer sayısını sütunlara göre hesaplama\n",
    "missing_counts = df.isnull().sum()\n",
    "missing_counts = missing_counts[missing_counts > 0]  # Sadece eksik verisi olan sütunlar\n",
    "\n",
    "# Eksik verileri çubuk grafikle gösterme\n",
    "missing_counts.sort_values().plot(kind='barh', figsize=(8, 5))\n",
    "plt.title(\"Sütunlara Göre Eksik Veri Sayısı\")\n",
    "plt.xlabel(\"Eksik Değer Sayısı\")\n",
    "plt.ylabel(\"Sütunlar\")\n",
    "plt.show()\n",
    "\n"
   ]
  },
  {
   "cell_type": "markdown",
   "id": "d3ec1a72",
   "metadata": {
    "papermill": {
     "duration": 0.025429,
     "end_time": "2024-11-23T15:50:28.267418",
     "exception": false,
     "start_time": "2024-11-23T15:50:28.241989",
     "status": "completed"
    },
    "tags": []
   },
   "source": [
    "# **4.2.Eksik Değerlerin Doldurulması**"
   ]
  },
  {
   "cell_type": "markdown",
   "id": "f3520c39",
   "metadata": {
    "papermill": {
     "duration": 0.025251,
     "end_time": "2024-11-23T15:50:28.318075",
     "exception": false,
     "start_time": "2024-11-23T15:50:28.292824",
     "status": "completed"
    },
    "tags": []
   },
   "source": [
    "şuraya bazı açıklamalar ekle"
   ]
  },
  {
   "cell_type": "markdown",
   "id": "9787ca9d",
   "metadata": {
    "papermill": {
     "duration": 0.025306,
     "end_time": "2024-11-23T15:50:28.368907",
     "exception": false,
     "start_time": "2024-11-23T15:50:28.343601",
     "status": "completed"
    },
    "tags": []
   },
   "source": [
    "***"
   ]
  },
  {
   "cell_type": "markdown",
   "id": "e521a7b7",
   "metadata": {
    "papermill": {
     "duration": 0.025334,
     "end_time": "2024-11-23T15:50:28.420379",
     "exception": false,
     "start_time": "2024-11-23T15:50:28.395045",
     "status": "completed"
    },
    "tags": []
   },
   "source": [
    "**id:**\n",
    "\n",
    "Id değerlerinin analize anlamlı bir etkisi yoktur. Sadece her kayıt için atanan id değerlerinin birbirinden farklı olmasına dikkat etmeliyiz.  \n",
    "\n",
    "En yüksek id'den başlayarak birer birer artacak şekilde eksik id değerlerini dolduralım."
   ]
  },
  {
   "cell_type": "code",
   "execution_count": 35,
   "id": "8092821b",
   "metadata": {
    "execution": {
     "iopub.execute_input": "2024-11-23T15:50:28.473494Z",
     "iopub.status.busy": "2024-11-23T15:50:28.473074Z",
     "iopub.status.idle": "2024-11-23T15:50:28.482288Z",
     "shell.execute_reply": "2024-11-23T15:50:28.481270Z"
    },
    "papermill": {
     "duration": 0.03867,
     "end_time": "2024-11-23T15:50:28.484671",
     "exception": false,
     "start_time": "2024-11-23T15:50:28.446001",
     "status": "completed"
    },
    "tags": []
   },
   "outputs": [],
   "source": [
    "#id değeri eksik olan kayıtları toplayalım\n",
    "missing_indices = df['id'].isna()\n",
    "\n",
    "#En yüksek id değerinin bir fazlasından başlayarak boş id'leri dolduralım.\n",
    "df.loc[missing_indices,'id',]= [float(i) for i in range(int(df['id'].max()) + 1, \n",
    "                                                        int(df['id'].max()) + 1 + missing_indices.sum())]\n"
   ]
  },
  {
   "cell_type": "code",
   "execution_count": 36,
   "id": "b2fee02f",
   "metadata": {
    "execution": {
     "iopub.execute_input": "2024-11-23T15:50:28.538198Z",
     "iopub.status.busy": "2024-11-23T15:50:28.537789Z",
     "iopub.status.idle": "2024-11-23T15:50:28.546463Z",
     "shell.execute_reply": "2024-11-23T15:50:28.544869Z"
    },
    "papermill": {
     "duration": 0.038043,
     "end_time": "2024-11-23T15:50:28.548802",
     "exception": false,
     "start_time": "2024-11-23T15:50:28.510759",
     "status": "completed"
    },
    "tags": []
   },
   "outputs": [
    {
     "data": {
      "text/plain": [
       "0     2162635.0\n",
       "1     2277475.0\n",
       "2     2512244.0\n",
       "3     3596030.0\n",
       "4     3667127.0\n",
       "5    54138696.0\n",
       "6    54189957.0\n",
       "7    54230078.0\n",
       "8     2088213.0\n",
       "9     3766065.0\n",
       "Name: id, dtype: float64"
      ]
     },
     "execution_count": 36,
     "metadata": {},
     "output_type": "execute_result"
    }
   ],
   "source": [
    "df['id'].head(10)"
   ]
  },
  {
   "cell_type": "code",
   "execution_count": 37,
   "id": "161288fe",
   "metadata": {
    "execution": {
     "iopub.execute_input": "2024-11-23T15:50:28.604099Z",
     "iopub.status.busy": "2024-11-23T15:50:28.603663Z",
     "iopub.status.idle": "2024-11-23T15:50:28.665612Z",
     "shell.execute_reply": "2024-11-23T15:50:28.664435Z"
    },
    "papermill": {
     "duration": 0.091685,
     "end_time": "2024-11-23T15:50:28.668227",
     "exception": false,
     "start_time": "2024-11-23T15:50:28.576542",
     "status": "completed"
    },
    "tags": []
   },
   "outputs": [
    {
     "data": {
      "text/html": [
       "<div>\n",
       "<style scoped>\n",
       "    .dataframe tbody tr th:only-of-type {\n",
       "        vertical-align: middle;\n",
       "    }\n",
       "\n",
       "    .dataframe tbody tr th {\n",
       "        vertical-align: top;\n",
       "    }\n",
       "\n",
       "    .dataframe thead th {\n",
       "        text-align: right;\n",
       "    }\n",
       "</style>\n",
       "<table border=\"1\" class=\"dataframe\">\n",
       "  <thead>\n",
       "    <tr style=\"text-align: right;\">\n",
       "      <th></th>\n",
       "      <th>count</th>\n",
       "      <th>mean</th>\n",
       "      <th>std</th>\n",
       "      <th>min</th>\n",
       "      <th>25%</th>\n",
       "      <th>50%</th>\n",
       "      <th>75%</th>\n",
       "      <th>max</th>\n",
       "    </tr>\n",
       "  </thead>\n",
       "  <tbody>\n",
       "    <tr>\n",
       "      <th>id</th>\n",
       "      <td>90836.0</td>\n",
       "      <td>1.476152e+07</td>\n",
       "      <td>2.112992e+07</td>\n",
       "      <td>2.000433e+06</td>\n",
       "      <td>3.455259e+06</td>\n",
       "      <td>3.750669e+06</td>\n",
       "      <td>3.893447e+06</td>\n",
       "      <td>5.427679e+07</td>\n",
       "    </tr>\n",
       "    <tr>\n",
       "      <th>est_diameter_min</th>\n",
       "      <td>89924.0</td>\n",
       "      <td>1.275301e-01</td>\n",
       "      <td>2.993896e-01</td>\n",
       "      <td>6.089126e-04</td>\n",
       "      <td>1.925551e-02</td>\n",
       "      <td>4.836765e-02</td>\n",
       "      <td>1.434019e-01</td>\n",
       "      <td>3.789265e+01</td>\n",
       "    </tr>\n",
       "    <tr>\n",
       "      <th>est_diameter_max</th>\n",
       "      <td>89933.0</td>\n",
       "      <td>2.840372e-01</td>\n",
       "      <td>6.071001e-01</td>\n",
       "      <td>1.361570e-03</td>\n",
       "      <td>4.305662e-02</td>\n",
       "      <td>1.081534e-01</td>\n",
       "      <td>3.206564e-01</td>\n",
       "      <td>5.152761e+01</td>\n",
       "    </tr>\n",
       "    <tr>\n",
       "      <th>relative_velocity</th>\n",
       "      <td>89931.0</td>\n",
       "      <td>4.807330e+04</td>\n",
       "      <td>2.530042e+04</td>\n",
       "      <td>2.714468e+02</td>\n",
       "      <td>2.862095e+04</td>\n",
       "      <td>4.419467e+04</td>\n",
       "      <td>6.294515e+04</td>\n",
       "      <td>2.369901e+05</td>\n",
       "    </tr>\n",
       "    <tr>\n",
       "      <th>miss_distance</th>\n",
       "      <td>89948.0</td>\n",
       "      <td>3.706287e+07</td>\n",
       "      <td>2.235476e+07</td>\n",
       "      <td>6.745533e+03</td>\n",
       "      <td>1.720021e+07</td>\n",
       "      <td>3.784551e+07</td>\n",
       "      <td>5.655173e+07</td>\n",
       "      <td>7.479865e+07</td>\n",
       "    </tr>\n",
       "    <tr>\n",
       "      <th>absolute_magnitude</th>\n",
       "      <td>89901.0</td>\n",
       "      <td>2.352652e+01</td>\n",
       "      <td>2.894555e+00</td>\n",
       "      <td>9.230000e+00</td>\n",
       "      <td>2.134000e+01</td>\n",
       "      <td>2.370000e+01</td>\n",
       "      <td>2.570000e+01</td>\n",
       "      <td>3.320000e+01</td>\n",
       "    </tr>\n",
       "  </tbody>\n",
       "</table>\n",
       "</div>"
      ],
      "text/plain": [
       "                      count          mean           std           min  \\\n",
       "id                  90836.0  1.476152e+07  2.112992e+07  2.000433e+06   \n",
       "est_diameter_min    89924.0  1.275301e-01  2.993896e-01  6.089126e-04   \n",
       "est_diameter_max    89933.0  2.840372e-01  6.071001e-01  1.361570e-03   \n",
       "relative_velocity   89931.0  4.807330e+04  2.530042e+04  2.714468e+02   \n",
       "miss_distance       89948.0  3.706287e+07  2.235476e+07  6.745533e+03   \n",
       "absolute_magnitude  89901.0  2.352652e+01  2.894555e+00  9.230000e+00   \n",
       "\n",
       "                             25%           50%           75%           max  \n",
       "id                  3.455259e+06  3.750669e+06  3.893447e+06  5.427679e+07  \n",
       "est_diameter_min    1.925551e-02  4.836765e-02  1.434019e-01  3.789265e+01  \n",
       "est_diameter_max    4.305662e-02  1.081534e-01  3.206564e-01  5.152761e+01  \n",
       "relative_velocity   2.862095e+04  4.419467e+04  6.294515e+04  2.369901e+05  \n",
       "miss_distance       1.720021e+07  3.784551e+07  5.655173e+07  7.479865e+07  \n",
       "absolute_magnitude  2.134000e+01  2.370000e+01  2.570000e+01  3.320000e+01  "
      ]
     },
     "execution_count": 37,
     "metadata": {},
     "output_type": "execute_result"
    }
   ],
   "source": [
    "df.describe().T "
   ]
  },
  {
   "cell_type": "markdown",
   "id": "28350f1c",
   "metadata": {
    "papermill": {
     "duration": 0.025699,
     "end_time": "2024-11-23T15:50:28.720587",
     "exception": false,
     "start_time": "2024-11-23T15:50:28.694888",
     "status": "completed"
    },
    "tags": []
   },
   "source": [
    "***"
   ]
  },
  {
   "cell_type": "markdown",
   "id": "908e34b0",
   "metadata": {
    "papermill": {
     "duration": 0.025619,
     "end_time": "2024-11-23T15:50:28.772683",
     "exception": false,
     "start_time": "2024-11-23T15:50:28.747064",
     "status": "completed"
    },
    "tags": []
   },
   "source": [
    "**est_diameter_min:**\n",
    "\n",
    "Tek başına bu sütun için aynı değerlere bakalım."
   ]
  },
  {
   "cell_type": "code",
   "execution_count": 38,
   "id": "eb60ba5e",
   "metadata": {
    "execution": {
     "iopub.execute_input": "2024-11-23T15:50:28.826491Z",
     "iopub.status.busy": "2024-11-23T15:50:28.826080Z",
     "iopub.status.idle": "2024-11-23T15:50:28.841309Z",
     "shell.execute_reply": "2024-11-23T15:50:28.840171Z"
    },
    "papermill": {
     "duration": 0.044802,
     "end_time": "2024-11-23T15:50:28.843572",
     "exception": false,
     "start_time": "2024-11-23T15:50:28.798770",
     "status": "completed"
    },
    "tags": []
   },
   "outputs": [
    {
     "data": {
      "text/plain": [
       "count    89924.000000\n",
       "mean         0.127530\n",
       "std          0.299390\n",
       "min          0.000609\n",
       "25%          0.019256\n",
       "50%          0.048368\n",
       "75%          0.143402\n",
       "max         37.892650\n",
       "Name: est_diameter_min, dtype: float64"
      ]
     },
     "execution_count": 38,
     "metadata": {},
     "output_type": "execute_result"
    }
   ],
   "source": [
    "df['est_diameter_min'].describe()"
   ]
  },
  {
   "cell_type": "code",
   "execution_count": 39,
   "id": "35fd150b",
   "metadata": {
    "execution": {
     "iopub.execute_input": "2024-11-23T15:50:28.898986Z",
     "iopub.status.busy": "2024-11-23T15:50:28.898595Z",
     "iopub.status.idle": "2024-11-23T15:50:29.978102Z",
     "shell.execute_reply": "2024-11-23T15:50:29.976999Z"
    },
    "papermill": {
     "duration": 1.110402,
     "end_time": "2024-11-23T15:50:29.980382",
     "exception": false,
     "start_time": "2024-11-23T15:50:28.869980",
     "status": "completed"
    },
    "tags": []
   },
   "outputs": [
    {
     "data": {
      "image/png": "[encoded data removed]",
      "text/plain": [
       "<Figure size 640x480 with 1 Axes>"
      ]
     },
     "metadata": {},
     "output_type": "display_data"
    }
   ],
   "source": [
    "#Bu sütuna ait histogramı çizdirip dağılımlara bakalım.\n",
    "sns.histplot(df['est_diameter_min'],bins=200,kde=True)\n",
    "\n",
    "#Kayıt sayılarını daha detaylı gözlemlemek için aralıkları daraltalım.\n",
    "plt.yticks(np.arange(0,100000,10000))\n",
    "#1-100.000 arası değerleri, 10.000 aralıklarla yazdırdık.\n",
    "\n",
    "# x ve y ekseni adlandırması\n",
    "plt.xlabel(\"Tahmini Minimum Çap Değeri\")\n",
    "plt.ylabel(\"Kayıt Sayısı\");"
   ]
  },
  {
   "cell_type": "code",
   "execution_count": 40,
   "id": "c44f23b6",
   "metadata": {
    "execution": {
     "iopub.execute_input": "2024-11-23T15:50:30.036121Z",
     "iopub.status.busy": "2024-11-23T15:50:30.035728Z",
     "iopub.status.idle": "2024-11-23T15:50:30.045152Z",
     "shell.execute_reply": "2024-11-23T15:50:30.044151Z"
    },
    "papermill": {
     "duration": 0.040293,
     "end_time": "2024-11-23T15:50:30.047501",
     "exception": false,
     "start_time": "2024-11-23T15:50:30.007208",
     "status": "completed"
    },
    "tags": []
   },
   "outputs": [
    {
     "data": {
      "text/plain": [
       "0.12753008205213626"
      ]
     },
     "execution_count": 40,
     "metadata": {},
     "output_type": "execute_result"
    }
   ],
   "source": [
    "#Ortalama\n",
    "df['est_diameter_min'].mean()"
   ]
  },
  {
   "cell_type": "markdown",
   "id": "a133b144",
   "metadata": {
    "execution": {
     "iopub.execute_input": "2024-11-22T21:11:39.844111Z",
     "iopub.status.busy": "2024-11-22T21:11:39.843689Z",
     "iopub.status.idle": "2024-11-22T21:11:39.850621Z",
     "shell.execute_reply": "2024-11-22T21:11:39.849377Z",
     "shell.execute_reply.started": "2024-11-22T21:11:39.844064Z"
    },
    "papermill": {
     "duration": 0.02741,
     "end_time": "2024-11-23T15:50:30.102899",
     "exception": false,
     "start_time": "2024-11-23T15:50:30.075489",
     "status": "completed"
    },
    "tags": []
   },
   "source": [
    "Bu örnekteki gibi uniform olmayan,dengesiz dağılımlarda ortalamayı kullanmak mantıklı olmayacaktır.Ortalama değeri aykırı değerlerden çok etkilenir dolayısıyla hataya sebep olurç Bunun yerine medyana bakabiliriz. Medyan değeri ise aykırı değerlerden etkilenmez, bize verilerin dağılımı hakkında daha sağlıklı bilgiler verir."
   ]
  },
  {
   "cell_type": "code",
   "execution_count": 41,
   "id": "b1074324",
   "metadata": {
    "execution": {
     "iopub.execute_input": "2024-11-23T15:50:30.158869Z",
     "iopub.status.busy": "2024-11-23T15:50:30.158474Z",
     "iopub.status.idle": "2024-11-23T15:50:30.167657Z",
     "shell.execute_reply": "2024-11-23T15:50:30.166656Z"
    },
    "papermill": {
     "duration": 0.040071,
     "end_time": "2024-11-23T15:50:30.169707",
     "exception": false,
     "start_time": "2024-11-23T15:50:30.129636",
     "status": "completed"
    },
    "tags": []
   },
   "outputs": [
    {
     "data": {
      "text/plain": [
       "0.0483676488"
      ]
     },
     "execution_count": 41,
     "metadata": {},
     "output_type": "execute_result"
    }
   ],
   "source": [
    "#Medyan\n",
    "df['est_diameter_min'].median()"
   ]
  },
  {
   "cell_type": "markdown",
   "id": "3fc931c0",
   "metadata": {
    "papermill": {
     "duration": 0.027134,
     "end_time": "2024-11-23T15:50:30.223877",
     "exception": false,
     "start_time": "2024-11-23T15:50:30.196743",
     "status": "completed"
    },
    "tags": []
   },
   "source": [
    "Bu sütun için medyan değerini kullanarak eksik değerleri tamamlayalım."
   ]
  },
  {
   "cell_type": "code",
   "execution_count": 42,
   "id": "3dc44db2",
   "metadata": {
    "execution": {
     "iopub.execute_input": "2024-11-23T15:50:30.278910Z",
     "iopub.status.busy": "2024-11-23T15:50:30.278511Z",
     "iopub.status.idle": "2024-11-23T15:50:30.287599Z",
     "shell.execute_reply": "2024-11-23T15:50:30.286171Z"
    },
    "papermill": {
     "duration": 0.040096,
     "end_time": "2024-11-23T15:50:30.290626",
     "exception": false,
     "start_time": "2024-11-23T15:50:30.250530",
     "status": "completed"
    },
    "tags": []
   },
   "outputs": [],
   "source": [
    "df['est_diameter_min'].fillna(value=df['est_diameter_min'].median(),inplace=True)"
   ]
  },
  {
   "cell_type": "code",
   "execution_count": 43,
   "id": "0bd63dbf",
   "metadata": {
    "execution": {
     "iopub.execute_input": "2024-11-23T15:50:30.356225Z",
     "iopub.status.busy": "2024-11-23T15:50:30.355640Z",
     "iopub.status.idle": "2024-11-23T15:50:30.366674Z",
     "shell.execute_reply": "2024-11-23T15:50:30.365562Z"
    },
    "papermill": {
     "duration": 0.042143,
     "end_time": "2024-11-23T15:50:30.368896",
     "exception": false,
     "start_time": "2024-11-23T15:50:30.326753",
     "status": "completed"
    },
    "tags": []
   },
   "outputs": [
    {
     "data": {
      "text/plain": [
       "False"
      ]
     },
     "execution_count": 43,
     "metadata": {},
     "output_type": "execute_result"
    }
   ],
   "source": [
    "#Kontrol edelim.\n",
    "df['est_diameter_min'].isnull().any()"
   ]
  },
  {
   "cell_type": "code",
   "execution_count": 44,
   "id": "7feb5ff9",
   "metadata": {
    "execution": {
     "iopub.execute_input": "2024-11-23T15:50:30.426310Z",
     "iopub.status.busy": "2024-11-23T15:50:30.425934Z",
     "iopub.status.idle": "2024-11-23T15:50:30.434276Z",
     "shell.execute_reply": "2024-11-23T15:50:30.433094Z"
    },
    "papermill": {
     "duration": 0.039182,
     "end_time": "2024-11-23T15:50:30.436474",
     "exception": false,
     "start_time": "2024-11-23T15:50:30.397292",
     "status": "completed"
    },
    "tags": []
   },
   "outputs": [
    {
     "data": {
      "text/plain": [
       "0    1.198271\n",
       "1    0.265800\n",
       "2    0.722030\n",
       "3    0.096506\n",
       "4    0.255009\n",
       "5    0.036354\n",
       "6    0.171615\n",
       "7    0.005328\n",
       "8    0.350393\n",
       "9    0.105817\n",
       "Name: est_diameter_min, dtype: float64"
      ]
     },
     "execution_count": 44,
     "metadata": {},
     "output_type": "execute_result"
    }
   ],
   "source": [
    "df['est_diameter_min'].head(10)"
   ]
  },
  {
   "cell_type": "markdown",
   "id": "e58d79d9",
   "metadata": {
    "papermill": {
     "duration": 0.02683,
     "end_time": "2024-11-23T15:50:30.490419",
     "exception": false,
     "start_time": "2024-11-23T15:50:30.463589",
     "status": "completed"
    },
    "tags": []
   },
   "source": [
    "***"
   ]
  },
  {
   "cell_type": "markdown",
   "id": "036554f9",
   "metadata": {
    "papermill": {
     "duration": 0.026657,
     "end_time": "2024-11-23T15:50:30.544628",
     "exception": false,
     "start_time": "2024-11-23T15:50:30.517971",
     "status": "completed"
    },
    "tags": []
   },
   "source": [
    "**est_diameter_max:**"
   ]
  },
  {
   "cell_type": "code",
   "execution_count": 45,
   "id": "0d5aa887",
   "metadata": {
    "execution": {
     "iopub.execute_input": "2024-11-23T15:50:30.600607Z",
     "iopub.status.busy": "2024-11-23T15:50:30.599777Z",
     "iopub.status.idle": "2024-11-23T15:50:30.614773Z",
     "shell.execute_reply": "2024-11-23T15:50:30.613713Z"
    },
    "papermill": {
     "duration": 0.04555,
     "end_time": "2024-11-23T15:50:30.617144",
     "exception": false,
     "start_time": "2024-11-23T15:50:30.571594",
     "status": "completed"
    },
    "tags": []
   },
   "outputs": [
    {
     "data": {
      "text/plain": [
       "count    89933.000000\n",
       "mean         0.284037\n",
       "std          0.607100\n",
       "min          0.001362\n",
       "25%          0.043057\n",
       "50%          0.108153\n",
       "75%          0.320656\n",
       "max         51.527608\n",
       "Name: est_diameter_max, dtype: float64"
      ]
     },
     "execution_count": 45,
     "metadata": {},
     "output_type": "execute_result"
    }
   ],
   "source": [
    "df['est_diameter_max'].describe()"
   ]
  },
  {
   "cell_type": "code",
   "execution_count": 46,
   "id": "574a4cb3",
   "metadata": {
    "execution": {
     "iopub.execute_input": "2024-11-23T15:50:30.674426Z",
     "iopub.status.busy": "2024-11-23T15:50:30.673313Z",
     "iopub.status.idle": "2024-11-23T15:50:31.610411Z",
     "shell.execute_reply": "2024-11-23T15:50:31.609366Z"
    },
    "papermill": {
     "duration": 0.968021,
     "end_time": "2024-11-23T15:50:31.612660",
     "exception": false,
     "start_time": "2024-11-23T15:50:30.644639",
     "status": "completed"
    },
    "tags": []
   },
   "outputs": [
    {
     "data": {
      "image/png": "[encoded data removed]",
      "text/plain": [
       "<Figure size 640x480 with 1 Axes>"
      ]
     },
     "metadata": {},
     "output_type": "display_data"
    }
   ],
   "source": [
    "sns.histplot(df['est_diameter_max'],bins=200,kde=True)\n",
    "plt.xlabel(\"Tahmini Maksimum Çap Değeri\")\n",
    "plt.ylabel(\"Kayıt Sayısı\");"
   ]
  },
  {
   "cell_type": "code",
   "execution_count": 47,
   "id": "808bd016",
   "metadata": {
    "execution": {
     "iopub.execute_input": "2024-11-23T15:50:31.670389Z",
     "iopub.status.busy": "2024-11-23T15:50:31.669992Z",
     "iopub.status.idle": "2024-11-23T15:50:31.678720Z",
     "shell.execute_reply": "2024-11-23T15:50:31.677169Z"
    },
    "papermill": {
     "duration": 0.040569,
     "end_time": "2024-11-23T15:50:31.680980",
     "exception": false,
     "start_time": "2024-11-23T15:50:31.640411",
     "status": "completed"
    },
    "tags": []
   },
   "outputs": [
    {
     "data": {
      "text/plain": [
       "0.28403719355049206"
      ]
     },
     "execution_count": 47,
     "metadata": {},
     "output_type": "execute_result"
    }
   ],
   "source": [
    "df['est_diameter_max'].mean()"
   ]
  },
  {
   "cell_type": "code",
   "execution_count": 48,
   "id": "dfe74e23",
   "metadata": {
    "execution": {
     "iopub.execute_input": "2024-11-23T15:50:31.739746Z",
     "iopub.status.busy": "2024-11-23T15:50:31.739362Z",
     "iopub.status.idle": "2024-11-23T15:50:31.749159Z",
     "shell.execute_reply": "2024-11-23T15:50:31.748029Z"
    },
    "papermill": {
     "duration": 0.041112,
     "end_time": "2024-11-23T15:50:31.751692",
     "exception": false,
     "start_time": "2024-11-23T15:50:31.710580",
     "status": "completed"
    },
    "tags": []
   },
   "outputs": [
    {
     "data": {
      "text/plain": [
       "0.1081533507"
      ]
     },
     "execution_count": 48,
     "metadata": {},
     "output_type": "execute_result"
    }
   ],
   "source": [
    "df['est_diameter_max'].median()"
   ]
  },
  {
   "cell_type": "markdown",
   "id": "91c0f76b",
   "metadata": {
    "papermill": {
     "duration": 0.028401,
     "end_time": "2024-11-23T15:50:31.808049",
     "exception": false,
     "start_time": "2024-11-23T15:50:31.779648",
     "status": "completed"
    },
    "tags": []
   },
   "source": [
    "Bu sütun için de medyan değerini kullanalım."
   ]
  },
  {
   "cell_type": "code",
   "execution_count": 49,
   "id": "7e9b0e0f",
   "metadata": {
    "execution": {
     "iopub.execute_input": "2024-11-23T15:50:31.867672Z",
     "iopub.status.busy": "2024-11-23T15:50:31.866309Z",
     "iopub.status.idle": "2024-11-23T15:50:31.875996Z",
     "shell.execute_reply": "2024-11-23T15:50:31.874823Z"
    },
    "papermill": {
     "duration": 0.042185,
     "end_time": "2024-11-23T15:50:31.878314",
     "exception": false,
     "start_time": "2024-11-23T15:50:31.836129",
     "status": "completed"
    },
    "tags": []
   },
   "outputs": [],
   "source": [
    "df['est_diameter_max'].fillna(value=df['est_diameter_max'].median(),inplace=True)"
   ]
  },
  {
   "cell_type": "code",
   "execution_count": 50,
   "id": "56322c24",
   "metadata": {
    "execution": {
     "iopub.execute_input": "2024-11-23T15:50:31.936429Z",
     "iopub.status.busy": "2024-11-23T15:50:31.936021Z",
     "iopub.status.idle": "2024-11-23T15:50:31.943856Z",
     "shell.execute_reply": "2024-11-23T15:50:31.942778Z"
    },
    "papermill": {
     "duration": 0.039966,
     "end_time": "2024-11-23T15:50:31.946175",
     "exception": false,
     "start_time": "2024-11-23T15:50:31.906209",
     "status": "completed"
    },
    "tags": []
   },
   "outputs": [
    {
     "data": {
      "text/plain": [
       "False"
      ]
     },
     "execution_count": 50,
     "metadata": {},
     "output_type": "execute_result"
    }
   ],
   "source": [
    "df['est_diameter_max'].isnull().any()"
   ]
  },
  {
   "cell_type": "code",
   "execution_count": 51,
   "id": "787b0adf",
   "metadata": {
    "execution": {
     "iopub.execute_input": "2024-11-23T15:50:32.003657Z",
     "iopub.status.busy": "2024-11-23T15:50:32.003231Z",
     "iopub.status.idle": "2024-11-23T15:50:32.012102Z",
     "shell.execute_reply": "2024-11-23T15:50:32.010858Z"
    },
    "papermill": {
     "duration": 0.040209,
     "end_time": "2024-11-23T15:50:32.014245",
     "exception": false,
     "start_time": "2024-11-23T15:50:31.974036",
     "status": "completed"
    },
    "tags": []
   },
   "outputs": [
    {
     "data": {
      "text/plain": [
       "0    2.679415\n",
       "1    0.594347\n",
       "2    1.614507\n",
       "3    0.215794\n",
       "4    0.570217\n",
       "5    0.081291\n",
       "6    0.383743\n",
       "7    0.011914\n",
       "8    0.783502\n",
       "9    0.236614\n",
       "Name: est_diameter_max, dtype: float64"
      ]
     },
     "execution_count": 51,
     "metadata": {},
     "output_type": "execute_result"
    }
   ],
   "source": [
    "df['est_diameter_max'].head(10)"
   ]
  },
  {
   "cell_type": "markdown",
   "id": "8ea113c6",
   "metadata": {
    "papermill": {
     "duration": 0.029258,
     "end_time": "2024-11-23T15:50:32.071402",
     "exception": false,
     "start_time": "2024-11-23T15:50:32.042144",
     "status": "completed"
    },
    "tags": []
   },
   "source": [
    "***"
   ]
  },
  {
   "cell_type": "markdown",
   "id": "167d7eac",
   "metadata": {
    "papermill": {
     "duration": 0.027528,
     "end_time": "2024-11-23T15:50:32.126968",
     "exception": false,
     "start_time": "2024-11-23T15:50:32.099440",
     "status": "completed"
    },
    "tags": []
   },
   "source": [
    "**relative_velocity:**"
   ]
  },
  {
   "cell_type": "code",
   "execution_count": 52,
   "id": "8b17e598",
   "metadata": {
    "execution": {
     "iopub.execute_input": "2024-11-23T15:50:32.184540Z",
     "iopub.status.busy": "2024-11-23T15:50:32.183855Z",
     "iopub.status.idle": "2024-11-23T15:50:32.199087Z",
     "shell.execute_reply": "2024-11-23T15:50:32.197952Z"
    },
    "papermill": {
     "duration": 0.046269,
     "end_time": "2024-11-23T15:50:32.201107",
     "exception": false,
     "start_time": "2024-11-23T15:50:32.154838",
     "status": "completed"
    },
    "tags": []
   },
   "outputs": [
    {
     "data": {
      "text/plain": [
       "count     89931.000000\n",
       "mean      48073.296937\n",
       "std       25300.418742\n",
       "min         271.446828\n",
       "25%       28620.946129\n",
       "50%       44194.670506\n",
       "75%       62945.153669\n",
       "max      236990.128088\n",
       "Name: relative_velocity, dtype: float64"
      ]
     },
     "execution_count": 52,
     "metadata": {},
     "output_type": "execute_result"
    }
   ],
   "source": [
    "df['relative_velocity'].describe()"
   ]
  },
  {
   "cell_type": "code",
   "execution_count": 53,
   "id": "75a68446",
   "metadata": {
    "execution": {
     "iopub.execute_input": "2024-11-23T15:50:32.261254Z",
     "iopub.status.busy": "2024-11-23T15:50:32.260238Z",
     "iopub.status.idle": "2024-11-23T15:50:33.326453Z",
     "shell.execute_reply": "2024-11-23T15:50:33.325237Z"
    },
    "papermill": {
     "duration": 1.099787,
     "end_time": "2024-11-23T15:50:33.329267",
     "exception": false,
     "start_time": "2024-11-23T15:50:32.229480",
     "status": "completed"
    },
    "tags": []
   },
   "outputs": [
    {
     "data": {
      "image/png": "[encoded data removed]",
      "text/plain": [
       "<Figure size 640x480 with 1 Axes>"
      ]
     },
     "metadata": {},
     "output_type": "display_data"
    }
   ],
   "source": [
    "sns.histplot(df['relative_velocity'],bins=200,kde=True)\n",
    "plt.xlabel(\"Gök Cisminin Göreceli Hızı\")\n",
    "plt.ylabel(\"Kayıt Sayısı\");"
   ]
  },
  {
   "cell_type": "code",
   "execution_count": 54,
   "id": "763c38e5",
   "metadata": {
    "execution": {
     "iopub.execute_input": "2024-11-23T15:50:33.388537Z",
     "iopub.status.busy": "2024-11-23T15:50:33.388145Z",
     "iopub.status.idle": "2024-11-23T15:50:33.396260Z",
     "shell.execute_reply": "2024-11-23T15:50:33.394909Z"
    },
    "papermill": {
     "duration": 0.040356,
     "end_time": "2024-11-23T15:50:33.398672",
     "exception": false,
     "start_time": "2024-11-23T15:50:33.358316",
     "status": "completed"
    },
    "tags": []
   },
   "outputs": [
    {
     "data": {
      "text/plain": [
       "48073.29693680234"
      ]
     },
     "execution_count": 54,
     "metadata": {},
     "output_type": "execute_result"
    }
   ],
   "source": [
    "df['relative_velocity'].mean()"
   ]
  },
  {
   "cell_type": "code",
   "execution_count": 55,
   "id": "3ac11284",
   "metadata": {
    "execution": {
     "iopub.execute_input": "2024-11-23T15:50:33.459399Z",
     "iopub.status.busy": "2024-11-23T15:50:33.458965Z",
     "iopub.status.idle": "2024-11-23T15:50:33.468669Z",
     "shell.execute_reply": "2024-11-23T15:50:33.467589Z"
    },
    "papermill": {
     "duration": 0.042701,
     "end_time": "2024-11-23T15:50:33.471204",
     "exception": false,
     "start_time": "2024-11-23T15:50:33.428503",
     "status": "completed"
    },
    "tags": []
   },
   "outputs": [
    {
     "data": {
      "text/plain": [
       "44194.6705059187"
      ]
     },
     "execution_count": 55,
     "metadata": {},
     "output_type": "execute_result"
    }
   ],
   "source": [
    "df['relative_velocity'].median()"
   ]
  },
  {
   "cell_type": "markdown",
   "id": "9b1b6928",
   "metadata": {
    "papermill": {
     "duration": 0.029313,
     "end_time": "2024-11-23T15:50:33.529452",
     "exception": false,
     "start_time": "2024-11-23T15:50:33.500139",
     "status": "completed"
    },
    "tags": []
   },
   "source": [
    "Dağılım çarpık olmasına rağmen medyan ve ortalama değerleri tesadüfen yakın çıktı. Ama genel olarak ortalama yanıltacağı için bu sütun için de medyan değerini kullanalım."
   ]
  },
  {
   "cell_type": "code",
   "execution_count": 56,
   "id": "b1db23ec",
   "metadata": {
    "execution": {
     "iopub.execute_input": "2024-11-23T15:50:33.589831Z",
     "iopub.status.busy": "2024-11-23T15:50:33.589435Z",
     "iopub.status.idle": "2024-11-23T15:50:33.598798Z",
     "shell.execute_reply": "2024-11-23T15:50:33.597621Z"
    },
    "papermill": {
     "duration": 0.042221,
     "end_time": "2024-11-23T15:50:33.601334",
     "exception": false,
     "start_time": "2024-11-23T15:50:33.559113",
     "status": "completed"
    },
    "tags": []
   },
   "outputs": [],
   "source": [
    "df['relative_velocity'].fillna(value=df['relative_velocity'].median(),inplace=True)"
   ]
  },
  {
   "cell_type": "code",
   "execution_count": 57,
   "id": "22f6f842",
   "metadata": {
    "execution": {
     "iopub.execute_input": "2024-11-23T15:50:33.662340Z",
     "iopub.status.busy": "2024-11-23T15:50:33.661238Z",
     "iopub.status.idle": "2024-11-23T15:50:33.669141Z",
     "shell.execute_reply": "2024-11-23T15:50:33.668049Z"
    },
    "papermill": {
     "duration": 0.04103,
     "end_time": "2024-11-23T15:50:33.671310",
     "exception": false,
     "start_time": "2024-11-23T15:50:33.630280",
     "status": "completed"
    },
    "tags": []
   },
   "outputs": [
    {
     "data": {
      "text/plain": [
       "False"
      ]
     },
     "execution_count": 57,
     "metadata": {},
     "output_type": "execute_result"
    }
   ],
   "source": [
    "df['relative_velocity'].isnull().any()"
   ]
  },
  {
   "cell_type": "code",
   "execution_count": 58,
   "id": "3ec5bfc8",
   "metadata": {
    "execution": {
     "iopub.execute_input": "2024-11-23T15:50:33.731109Z",
     "iopub.status.busy": "2024-11-23T15:50:33.730715Z",
     "iopub.status.idle": "2024-11-23T15:50:33.739418Z",
     "shell.execute_reply": "2024-11-23T15:50:33.738164Z"
    },
    "papermill": {
     "duration": 0.041552,
     "end_time": "2024-11-23T15:50:33.741813",
     "exception": false,
     "start_time": "2024-11-23T15:50:33.700261",
     "status": "completed"
    },
    "tags": []
   },
   "outputs": [
    {
     "data": {
      "text/plain": [
       "0     13569.249224\n",
       "1     73588.726663\n",
       "2    114258.692129\n",
       "3     24764.303138\n",
       "4     42737.733765\n",
       "5     34297.587778\n",
       "6     27529.472307\n",
       "7     57544.470083\n",
       "8     56625.210122\n",
       "9     48425.840329\n",
       "Name: relative_velocity, dtype: float64"
      ]
     },
     "execution_count": 58,
     "metadata": {},
     "output_type": "execute_result"
    }
   ],
   "source": [
    "df['relative_velocity'].head(10)"
   ]
  },
  {
   "cell_type": "markdown",
   "id": "7bc40ba1",
   "metadata": {
    "papermill": {
     "duration": 0.029674,
     "end_time": "2024-11-23T15:50:33.801511",
     "exception": false,
     "start_time": "2024-11-23T15:50:33.771837",
     "status": "completed"
    },
    "tags": []
   },
   "source": [
    "***"
   ]
  },
  {
   "cell_type": "markdown",
   "id": "22355317",
   "metadata": {
    "papermill": {
     "duration": 0.029072,
     "end_time": "2024-11-23T15:50:33.860508",
     "exception": false,
     "start_time": "2024-11-23T15:50:33.831436",
     "status": "completed"
    },
    "tags": []
   },
   "source": [
    "**miss_distance:**"
   ]
  },
  {
   "cell_type": "code",
   "execution_count": 59,
   "id": "3c19a419",
   "metadata": {
    "execution": {
     "iopub.execute_input": "2024-11-23T15:50:33.920912Z",
     "iopub.status.busy": "2024-11-23T15:50:33.920542Z",
     "iopub.status.idle": "2024-11-23T15:50:33.937251Z",
     "shell.execute_reply": "2024-11-23T15:50:33.936133Z"
    },
    "papermill": {
     "duration": 0.04964,
     "end_time": "2024-11-23T15:50:33.939663",
     "exception": false,
     "start_time": "2024-11-23T15:50:33.890023",
     "status": "completed"
    },
    "tags": []
   },
   "outputs": [
    {
     "data": {
      "text/plain": [
       "count    8.994800e+04\n",
       "mean     3.706287e+07\n",
       "std      2.235476e+07\n",
       "min      6.745533e+03\n",
       "25%      1.720021e+07\n",
       "50%      3.784551e+07\n",
       "75%      5.655173e+07\n",
       "max      7.479865e+07\n",
       "Name: miss_distance, dtype: float64"
      ]
     },
     "execution_count": 59,
     "metadata": {},
     "output_type": "execute_result"
    }
   ],
   "source": [
    "df['miss_distance'].describe()\n",
    "#Değerler çok büyük olduğu için, değerler diğerlerinden farklı olarak euler sayısı ile yazdırıldı. Daha anlaşılır bir çıktı için değerleri ondalıklı sayı haline getirelim."
   ]
  },
  {
   "cell_type": "code",
   "execution_count": 60,
   "id": "cd40cd38",
   "metadata": {
    "execution": {
     "iopub.execute_input": "2024-11-23T15:50:34.000506Z",
     "iopub.status.busy": "2024-11-23T15:50:33.999716Z",
     "iopub.status.idle": "2024-11-23T15:50:34.015044Z",
     "shell.execute_reply": "2024-11-23T15:50:34.013933Z"
    },
    "papermill": {
     "duration": 0.047896,
     "end_time": "2024-11-23T15:50:34.017078",
     "exception": false,
     "start_time": "2024-11-23T15:50:33.969182",
     "status": "completed"
    },
    "tags": []
   },
   "outputs": [
    {
     "data": {
      "text/plain": [
       "count       89948.000000\n",
       "mean     37062872.495912\n",
       "std      22354757.784814\n",
       "min          6745.532516\n",
       "25%      17200214.307774\n",
       "50%      37845505.898709\n",
       "75%      56551732.813358\n",
       "max      74798651.452197\n",
       "Name: miss_distance, dtype: object"
      ]
     },
     "execution_count": 60,
     "metadata": {},
     "output_type": "execute_result"
    }
   ],
   "source": [
    "df['miss_distance'].describe().apply(lambda x: f\"{x:.6f}\") "
   ]
  },
  {
   "cell_type": "markdown",
   "id": "7814a61d",
   "metadata": {
    "papermill": {
     "duration": 0.031939,
     "end_time": "2024-11-23T15:50:34.078155",
     "exception": false,
     "start_time": "2024-11-23T15:50:34.046216",
     "status": "completed"
    },
    "tags": []
   },
   "source": [
    "**Lambda:** Python'da isimsiz olarak tanımlanan fonksiyonlara lambda fonksiyonu denir. Ancak başka bir fonksiyon içinde kullanıldıklarında anlamlı hale gelirler."
   ]
  },
  {
   "cell_type": "code",
   "execution_count": 61,
   "id": "1e0240e7",
   "metadata": {
    "execution": {
     "iopub.execute_input": "2024-11-23T15:50:34.140535Z",
     "iopub.status.busy": "2024-11-23T15:50:34.140121Z",
     "iopub.status.idle": "2024-11-23T15:50:35.099350Z",
     "shell.execute_reply": "2024-11-23T15:50:35.098121Z"
    },
    "papermill": {
     "duration": 0.993421,
     "end_time": "2024-11-23T15:50:35.101636",
     "exception": false,
     "start_time": "2024-11-23T15:50:34.108215",
     "status": "completed"
    },
    "tags": []
   },
   "outputs": [
    {
     "data": {
      "image/png": "[encoded data removed]",
      "text/plain": [
       "<Figure size 640x480 with 1 Axes>"
      ]
     },
     "metadata": {},
     "output_type": "display_data"
    }
   ],
   "source": [
    "sns.histplot(df['miss_distance'],bins=200,kde=True)\n",
    "plt.xlabel(\"Dünya ile Minimum Yaklaşma Mesafesi(x10^12)\")\n",
    "plt.ylabel(\"Kayıt Sayısı\");\n",
    "\n"
   ]
  },
  {
   "cell_type": "code",
   "execution_count": 62,
   "id": "f4294d06",
   "metadata": {
    "execution": {
     "iopub.execute_input": "2024-11-23T15:50:35.164503Z",
     "iopub.status.busy": "2024-11-23T15:50:35.163479Z",
     "iopub.status.idle": "2024-11-23T15:50:35.171640Z",
     "shell.execute_reply": "2024-11-23T15:50:35.170686Z"
    },
    "papermill": {
     "duration": 0.041903,
     "end_time": "2024-11-23T15:50:35.173737",
     "exception": false,
     "start_time": "2024-11-23T15:50:35.131834",
     "status": "completed"
    },
    "tags": []
   },
   "outputs": [
    {
     "data": {
      "text/plain": [
       "37062872.49591155"
      ]
     },
     "execution_count": 62,
     "metadata": {},
     "output_type": "execute_result"
    }
   ],
   "source": [
    "df['miss_distance'].mean()"
   ]
  },
  {
   "cell_type": "code",
   "execution_count": 63,
   "id": "531b9d67",
   "metadata": {
    "execution": {
     "iopub.execute_input": "2024-11-23T15:50:35.236757Z",
     "iopub.status.busy": "2024-11-23T15:50:35.236363Z",
     "iopub.status.idle": "2024-11-23T15:50:35.245996Z",
     "shell.execute_reply": "2024-11-23T15:50:35.244762Z"
    },
    "papermill": {
     "duration": 0.045084,
     "end_time": "2024-11-23T15:50:35.248686",
     "exception": false,
     "start_time": "2024-11-23T15:50:35.203602",
     "status": "completed"
    },
    "tags": []
   },
   "outputs": [
    {
     "data": {
      "text/plain": [
       "37845505.89870917"
      ]
     },
     "execution_count": 63,
     "metadata": {},
     "output_type": "execute_result"
    }
   ],
   "source": [
    "df['miss_distance'].median()"
   ]
  },
  {
   "cell_type": "markdown",
   "id": "40399962",
   "metadata": {
    "papermill": {
     "duration": 0.031599,
     "end_time": "2024-11-23T15:50:35.310792",
     "exception": false,
     "start_time": "2024-11-23T15:50:35.279193",
     "status": "completed"
    },
    "tags": []
   },
   "source": [
    "Aynı şekilde medyan değerini kullanalım."
   ]
  },
  {
   "cell_type": "code",
   "execution_count": 64,
   "id": "c1f1af82",
   "metadata": {
    "execution": {
     "iopub.execute_input": "2024-11-23T15:50:35.374674Z",
     "iopub.status.busy": "2024-11-23T15:50:35.374239Z",
     "iopub.status.idle": "2024-11-23T15:50:35.383524Z",
     "shell.execute_reply": "2024-11-23T15:50:35.382121Z"
    },
    "papermill": {
     "duration": 0.043559,
     "end_time": "2024-11-23T15:50:35.386034",
     "exception": false,
     "start_time": "2024-11-23T15:50:35.342475",
     "status": "completed"
    },
    "tags": []
   },
   "outputs": [],
   "source": [
    "df['miss_distance'].fillna(value=df['miss_distance'].median(),inplace=True)"
   ]
  },
  {
   "cell_type": "code",
   "execution_count": 65,
   "id": "b59fb6d2",
   "metadata": {
    "execution": {
     "iopub.execute_input": "2024-11-23T15:50:35.448104Z",
     "iopub.status.busy": "2024-11-23T15:50:35.447690Z",
     "iopub.status.idle": "2024-11-23T15:50:35.455260Z",
     "shell.execute_reply": "2024-11-23T15:50:35.454239Z"
    },
    "papermill": {
     "duration": 0.041217,
     "end_time": "2024-11-23T15:50:35.457437",
     "exception": false,
     "start_time": "2024-11-23T15:50:35.416220",
     "status": "completed"
    },
    "tags": []
   },
   "outputs": [
    {
     "data": {
      "text/plain": [
       "False"
      ]
     },
     "execution_count": 65,
     "metadata": {},
     "output_type": "execute_result"
    }
   ],
   "source": [
    "df['miss_distance'].isnull().any()"
   ]
  },
  {
   "cell_type": "code",
   "execution_count": 66,
   "id": "ca036b75",
   "metadata": {
    "execution": {
     "iopub.execute_input": "2024-11-23T15:50:35.519585Z",
     "iopub.status.busy": "2024-11-23T15:50:35.518665Z",
     "iopub.status.idle": "2024-11-23T15:50:35.527837Z",
     "shell.execute_reply": "2024-11-23T15:50:35.526411Z"
    },
    "papermill": {
     "duration": 0.043278,
     "end_time": "2024-11-23T15:50:35.530632",
     "exception": false,
     "start_time": "2024-11-23T15:50:35.487354",
     "status": "completed"
    },
    "tags": []
   },
   "outputs": [
    {
     "data": {
      "text/plain": [
       "0    5.483974e+07\n",
       "1    6.143813e+07\n",
       "2    4.979872e+07\n",
       "3    2.543497e+07\n",
       "4    4.627557e+07\n",
       "5    4.058569e+07\n",
       "6    2.906912e+07\n",
       "7    5.511502e+07\n",
       "8    6.903598e+07\n",
       "9    3.835526e+07\n",
       "Name: miss_distance, dtype: float64"
      ]
     },
     "execution_count": 66,
     "metadata": {},
     "output_type": "execute_result"
    }
   ],
   "source": [
    "df['miss_distance'].head(10)"
   ]
  },
  {
   "cell_type": "markdown",
   "id": "4350fec4",
   "metadata": {
    "papermill": {
     "duration": 0.029959,
     "end_time": "2024-11-23T15:50:35.590954",
     "exception": false,
     "start_time": "2024-11-23T15:50:35.560995",
     "status": "completed"
    },
    "tags": []
   },
   "source": [
    "***"
   ]
  },
  {
   "cell_type": "markdown",
   "id": "7e6dcf50",
   "metadata": {
    "papermill": {
     "duration": 0.029868,
     "end_time": "2024-11-23T15:50:35.651040",
     "exception": false,
     "start_time": "2024-11-23T15:50:35.621172",
     "status": "completed"
    },
    "tags": []
   },
   "source": [
    "**absolute_magnitude:**"
   ]
  },
  {
   "cell_type": "code",
   "execution_count": 67,
   "id": "724caab6",
   "metadata": {
    "execution": {
     "iopub.execute_input": "2024-11-23T15:50:35.712951Z",
     "iopub.status.busy": "2024-11-23T15:50:35.712582Z",
     "iopub.status.idle": "2024-11-23T15:50:35.727932Z",
     "shell.execute_reply": "2024-11-23T15:50:35.726828Z"
    },
    "papermill": {
     "duration": 0.049074,
     "end_time": "2024-11-23T15:50:35.730417",
     "exception": false,
     "start_time": "2024-11-23T15:50:35.681343",
     "status": "completed"
    },
    "tags": []
   },
   "outputs": [
    {
     "data": {
      "text/plain": [
       "count    89901.000000\n",
       "mean        23.526517\n",
       "std          2.894555\n",
       "min          9.230000\n",
       "25%         21.340000\n",
       "50%         23.700000\n",
       "75%         25.700000\n",
       "max         33.200000\n",
       "Name: absolute_magnitude, dtype: float64"
      ]
     },
     "execution_count": 67,
     "metadata": {},
     "output_type": "execute_result"
    }
   ],
   "source": [
    "df['absolute_magnitude'].describe()"
   ]
  },
  {
   "cell_type": "code",
   "execution_count": 68,
   "id": "3f529252",
   "metadata": {
    "execution": {
     "iopub.execute_input": "2024-11-23T15:50:35.794315Z",
     "iopub.status.busy": "2024-11-23T15:50:35.793953Z",
     "iopub.status.idle": "2024-11-23T15:50:36.669697Z",
     "shell.execute_reply": "2024-11-23T15:50:36.668601Z"
    },
    "papermill": {
     "duration": 0.910425,
     "end_time": "2024-11-23T15:50:36.672081",
     "exception": false,
     "start_time": "2024-11-23T15:50:35.761656",
     "status": "completed"
    },
    "tags": []
   },
   "outputs": [
    {
     "data": {
      "image/png": "[encoded data removed]",
      "text/plain": [
       "<Figure size 640x480 with 1 Axes>"
      ]
     },
     "metadata": {},
     "output_type": "display_data"
    }
   ],
   "source": [
    "sns.histplot(df['absolute_magnitude'],kde=True)\n",
    "plt.xlabel(\"Cisim Parlaklığı\")\n",
    "plt.ylabel(\"Kayıt Sayısı\");"
   ]
  },
  {
   "cell_type": "code",
   "execution_count": 69,
   "id": "865da48a",
   "metadata": {
    "execution": {
     "iopub.execute_input": "2024-11-23T15:50:36.743025Z",
     "iopub.status.busy": "2024-11-23T15:50:36.742122Z",
     "iopub.status.idle": "2024-11-23T15:50:36.749962Z",
     "shell.execute_reply": "2024-11-23T15:50:36.748959Z"
    },
    "papermill": {
     "duration": 0.047473,
     "end_time": "2024-11-23T15:50:36.752337",
     "exception": false,
     "start_time": "2024-11-23T15:50:36.704864",
     "status": "completed"
    },
    "tags": []
   },
   "outputs": [
    {
     "data": {
      "text/plain": [
       "23.526516634965127"
      ]
     },
     "execution_count": 69,
     "metadata": {},
     "output_type": "execute_result"
    }
   ],
   "source": [
    "df['absolute_magnitude'].mean()"
   ]
  },
  {
   "cell_type": "code",
   "execution_count": 70,
   "id": "208f63dd",
   "metadata": {
    "execution": {
     "iopub.execute_input": "2024-11-23T15:50:36.816719Z",
     "iopub.status.busy": "2024-11-23T15:50:36.816288Z",
     "iopub.status.idle": "2024-11-23T15:50:36.826965Z",
     "shell.execute_reply": "2024-11-23T15:50:36.825836Z"
    },
    "papermill": {
     "duration": 0.045407,
     "end_time": "2024-11-23T15:50:36.829161",
     "exception": false,
     "start_time": "2024-11-23T15:50:36.783754",
     "status": "completed"
    },
    "tags": []
   },
   "outputs": [
    {
     "data": {
      "text/plain": [
       "23.7"
      ]
     },
     "execution_count": 70,
     "metadata": {},
     "output_type": "execute_result"
    }
   ],
   "source": [
    "df['absolute_magnitude'].median()"
   ]
  },
  {
   "cell_type": "markdown",
   "id": "e946cd6f",
   "metadata": {
    "papermill": {
     "duration": 0.031839,
     "end_time": "2024-11-23T15:50:36.894276",
     "exception": false,
     "start_time": "2024-11-23T15:50:36.862437",
     "status": "completed"
    },
    "tags": []
   },
   "source": [
    "Normale yakın bir dağılım olduğu için burada ortalamayı kullanabiliriz"
   ]
  },
  {
   "cell_type": "code",
   "execution_count": 71,
   "id": "76542bcb",
   "metadata": {
    "execution": {
     "iopub.execute_input": "2024-11-23T15:50:36.961075Z",
     "iopub.status.busy": "2024-11-23T15:50:36.960653Z",
     "iopub.status.idle": "2024-11-23T15:50:36.967974Z",
     "shell.execute_reply": "2024-11-23T15:50:36.966837Z"
    },
    "papermill": {
     "duration": 0.0433,
     "end_time": "2024-11-23T15:50:36.970299",
     "exception": false,
     "start_time": "2024-11-23T15:50:36.926999",
     "status": "completed"
    },
    "tags": []
   },
   "outputs": [],
   "source": [
    "df['absolute_magnitude'].fillna(value=df['absolute_magnitude'].mean(),inplace=True)"
   ]
  },
  {
   "cell_type": "code",
   "execution_count": 72,
   "id": "86c632d2",
   "metadata": {
    "execution": {
     "iopub.execute_input": "2024-11-23T15:50:37.035467Z",
     "iopub.status.busy": "2024-11-23T15:50:37.035075Z",
     "iopub.status.idle": "2024-11-23T15:50:37.043237Z",
     "shell.execute_reply": "2024-11-23T15:50:37.041995Z"
    },
    "papermill": {
     "duration": 0.043424,
     "end_time": "2024-11-23T15:50:37.045455",
     "exception": false,
     "start_time": "2024-11-23T15:50:37.002031",
     "status": "completed"
    },
    "tags": []
   },
   "outputs": [
    {
     "data": {
      "text/plain": [
       "False"
      ]
     },
     "execution_count": 72,
     "metadata": {},
     "output_type": "execute_result"
    }
   ],
   "source": [
    "df['absolute_magnitude'].isnull().any()"
   ]
  },
  {
   "cell_type": "code",
   "execution_count": 73,
   "id": "e4d761ff",
   "metadata": {
    "execution": {
     "iopub.execute_input": "2024-11-23T15:50:37.112967Z",
     "iopub.status.busy": "2024-11-23T15:50:37.112584Z",
     "iopub.status.idle": "2024-11-23T15:50:37.120562Z",
     "shell.execute_reply": "2024-11-23T15:50:37.119483Z"
    },
    "papermill": {
     "duration": 0.042713,
     "end_time": "2024-11-23T15:50:37.122727",
     "exception": false,
     "start_time": "2024-11-23T15:50:37.080014",
     "status": "completed"
    },
    "tags": []
   },
   "outputs": [
    {
     "data": {
      "text/plain": [
       "0    16.73\n",
       "1    20.00\n",
       "2    17.83\n",
       "3    22.20\n",
       "4    20.09\n",
       "5    24.32\n",
       "6    20.95\n",
       "7    28.49\n",
       "8    19.40\n",
       "9    22.00\n",
       "Name: absolute_magnitude, dtype: float64"
      ]
     },
     "execution_count": 73,
     "metadata": {},
     "output_type": "execute_result"
    }
   ],
   "source": [
    "df['absolute_magnitude'].head(10)"
   ]
  },
  {
   "cell_type": "markdown",
   "id": "de279a3a",
   "metadata": {
    "papermill": {
     "duration": 0.032738,
     "end_time": "2024-11-23T15:50:37.187712",
     "exception": false,
     "start_time": "2024-11-23T15:50:37.154974",
     "status": "completed"
    },
    "tags": []
   },
   "source": [
    "# **5.Aykırı Değer (Outlier) Analizi**"
   ]
  },
  {
   "cell_type": "markdown",
   "id": "3f68a15f",
   "metadata": {
    "execution": {
     "iopub.execute_input": "2024-11-23T14:08:16.100817Z",
     "iopub.status.busy": "2024-11-23T14:08:16.100443Z",
     "iopub.status.idle": "2024-11-23T14:08:16.108061Z",
     "shell.execute_reply": "2024-11-23T14:08:16.106550Z",
     "shell.execute_reply.started": "2024-11-23T14:08:16.100785Z"
    },
    "papermill": {
     "duration": 0.031594,
     "end_time": "2024-11-23T15:50:37.251474",
     "exception": false,
     "start_time": "2024-11-23T15:50:37.219880",
     "status": "completed"
    },
    "tags": []
   },
   "source": [
    "**IQR (Interquartile Range) Yöntemi:**\n",
    "\n",
    " Bu yöntem, verilerin çeyrek dilimlerine (quartiles) göre analiz edilmesini sağlar.\n",
    " \n",
    "IQR: bir veri setindeki 1. Çeyrek (Q1) ile 3. Çeyrek (Q3) arasındaki farktır. Bu iki değer, veri setinin orta yüzde 50'lik kısmını temsil eder. Formülü şu şekildedir:\n",
    "\n",
    "IQR=Q3−Q1\n",
    "\n",
    "Q1 (1. Çeyrek): Verilerin yüzde 25'inin altında kaldığı değer.\n",
    "\n",
    "Q3 (3. Çeyrek): Verilerin yüzde 75'inin altında kaldığı değer.\n",
    "\n",
    "\n",
    "Aykırı Değer Sınırları Nasıl Belirlenir?\n",
    "\n",
    "IQR kullanılarak aykırı değer sınırları şu şekilde hesaplanır:\n",
    "\n",
    "Alt Sınır (Lower Bound): Q1−1.5⋅IQR\n",
    "\n",
    "Üst Sınır (Upper Bound):Q3+1.5⋅IQR\n",
    "\n",
    "Bu sınırların dışında kalan değerler aykırı (outlier) olarak kabul edilir."
   ]
  },
  {
   "cell_type": "markdown",
   "id": "ad00519a",
   "metadata": {
    "papermill": {
     "duration": 0.031436,
     "end_time": "2024-11-23T15:50:37.314778",
     "exception": false,
     "start_time": "2024-11-23T15:50:37.283342",
     "status": "completed"
    },
    "tags": []
   },
   "source": [
    "**est_diameter_min:**"
   ]
  },
  {
   "cell_type": "code",
   "execution_count": 74,
   "id": "e64513bf",
   "metadata": {
    "execution": {
     "iopub.execute_input": "2024-11-23T15:50:37.381203Z",
     "iopub.status.busy": "2024-11-23T15:50:37.380217Z",
     "iopub.status.idle": "2024-11-23T15:50:37.600582Z",
     "shell.execute_reply": "2024-11-23T15:50:37.599380Z"
    },
    "papermill": {
     "duration": 0.256255,
     "end_time": "2024-11-23T15:50:37.602873",
     "exception": false,
     "start_time": "2024-11-23T15:50:37.346618",
     "status": "completed"
    },
    "tags": []
   },
   "outputs": [
    {
     "data": {
      "image/png": "[encoded data removed]",
      "text/plain": [
       "<Figure size 640x480 with 1 Axes>"
      ]
     },
     "metadata": {},
     "output_type": "display_data"
    }
   ],
   "source": [
    "#Öncelikle bir kutu grafiği yardımı ile dağılıma bakalım.\n",
    "#Boxplot genel olarak aykırı değerleri gözlemlemek için kullanışloı bör yöntemdir.\n",
    "sns.boxplot(df['est_diameter_min']);"
   ]
  },
  {
   "cell_type": "code",
   "execution_count": 75,
   "id": "6ce9962d",
   "metadata": {
    "execution": {
     "iopub.execute_input": "2024-11-23T15:50:37.668120Z",
     "iopub.status.busy": "2024-11-23T15:50:37.667726Z",
     "iopub.status.idle": "2024-11-23T15:50:37.803504Z",
     "shell.execute_reply": "2024-11-23T15:50:37.802435Z"
    },
    "papermill": {
     "duration": 0.171724,
     "end_time": "2024-11-23T15:50:37.806432",
     "exception": false,
     "start_time": "2024-11-23T15:50:37.634708",
     "status": "completed"
    },
    "tags": []
   },
   "outputs": [
    {
     "data": {
      "image/png": "[encoded data removed]",
      "text/plain": [
       "<Figure size 640x480 with 1 Axes>"
      ]
     },
     "metadata": {},
     "output_type": "display_data"
    }
   ],
   "source": [
    "#Aykırı değerler olmasaydı dağılımın nasıl olacağını görelim.\n",
    "sns.boxplot(df['est_diameter_min'], showfliers=False);\n"
   ]
  },
  {
   "cell_type": "code",
   "execution_count": 76,
   "id": "465ea9f6",
   "metadata": {
    "execution": {
     "iopub.execute_input": "2024-11-23T15:50:37.884058Z",
     "iopub.status.busy": "2024-11-23T15:50:37.883663Z",
     "iopub.status.idle": "2024-11-23T15:50:38.130840Z",
     "shell.execute_reply": "2024-11-23T15:50:38.129656Z"
    },
    "papermill": {
     "duration": 0.284244,
     "end_time": "2024-11-23T15:50:38.133187",
     "exception": false,
     "start_time": "2024-11-23T15:50:37.848943",
     "status": "completed"
    },
    "tags": []
   },
   "outputs": [
    {
     "data": {
      "image/png": "[encoded data removed]",
      "text/plain": [
       "<Figure size 640x480 with 1 Axes>"
      ]
     },
     "metadata": {},
     "output_type": "display_data"
    }
   ],
   "source": [
    "#Şimdi de yukarıda bahsettiğimiz IQR yöntemi ile aykırı değerleri gözlemleyelim.\n",
    "# Çeyrekler ve IQR'ı hesaplayalım.\n",
    "q1_1 = df['est_diameter_min'].quantile(0.25)\n",
    "q3_1 = df['est_diameter_min'].quantile(0.75)\n",
    "iqr1 = q3_1 - q1_1\n",
    "\n",
    "#İsimlendirmede karışıklık olmaması adına değişkenlerin sonuna sütun sırasını belirten 1 sayısını ekledik. \n",
    "\n",
    "# Alt ve üst sınırları belirleyelim.\n",
    "lower_bound1 = q1_1 - 1.5 * iqr1\n",
    "upper_bound1 = q3_1 + 1.5 * iqr1\n",
    "\n",
    "#Aykırı değerleri bir değişkende toplayalım.\n",
    "outliers1 = df[(df['est_diameter_min'] < lower_bound1) | (df['est_diameter_min'] > upper_bound1)]\n",
    "\n",
    "#Scatterplot (saçılım grafiği) ile aykırı değerleri görsel olarak görelim.\n",
    "plt.scatter(outliers1.index, outliers1['est_diameter_min'],label=\"Outliers\")  \n",
    "plt.show()"
   ]
  },
  {
   "cell_type": "markdown",
   "id": "12a9f5c6",
   "metadata": {
    "papermill": {
     "duration": 0.032962,
     "end_time": "2024-11-23T15:50:38.199231",
     "exception": false,
     "start_time": "2024-11-23T15:50:38.166269",
     "status": "completed"
    },
    "tags": []
   },
   "source": [
    "**est_diameter_max:**"
   ]
  },
  {
   "cell_type": "code",
   "execution_count": 77,
   "id": "f3fb223c",
   "metadata": {
    "execution": {
     "iopub.execute_input": "2024-11-23T15:50:38.271874Z",
     "iopub.status.busy": "2024-11-23T15:50:38.271291Z",
     "iopub.status.idle": "2024-11-23T15:50:38.491879Z",
     "shell.execute_reply": "2024-11-23T15:50:38.490617Z"
    },
    "papermill": {
     "duration": 0.259886,
     "end_time": "2024-11-23T15:50:38.494258",
     "exception": false,
     "start_time": "2024-11-23T15:50:38.234372",
     "status": "completed"
    },
    "tags": []
   },
   "outputs": [
    {
     "data": {
      "image/png": "[encoded data removed]",
      "text/plain": [
       "<Figure size 640x480 with 1 Axes>"
      ]
     },
     "metadata": {},
     "output_type": "display_data"
    }
   ],
   "source": [
    "sns.boxplot(df['est_diameter_max']);"
   ]
  },
  {
   "cell_type": "code",
   "execution_count": 78,
   "id": "f4f279ac",
   "metadata": {
    "execution": {
     "iopub.execute_input": "2024-11-23T15:50:38.564187Z",
     "iopub.status.busy": "2024-11-23T15:50:38.563803Z",
     "iopub.status.idle": "2024-11-23T15:50:38.759013Z",
     "shell.execute_reply": "2024-11-23T15:50:38.757936Z"
    },
    "papermill": {
     "duration": 0.233399,
     "end_time": "2024-11-23T15:50:38.761287",
     "exception": false,
     "start_time": "2024-11-23T15:50:38.527888",
     "status": "completed"
    },
    "tags": []
   },
   "outputs": [
    {
     "data": {
      "image/png": "[encoded data removed]",
      "text/plain": [
       "<Figure size 640x480 with 1 Axes>"
      ]
     },
     "metadata": {},
     "output_type": "display_data"
    }
   ],
   "source": [
    "sns.boxplot(df['est_diameter_max'], showfliers=False);"
   ]
  },
  {
   "cell_type": "code",
   "execution_count": 79,
   "id": "9378d692",
   "metadata": {
    "execution": {
     "iopub.execute_input": "2024-11-23T15:50:38.828807Z",
     "iopub.status.busy": "2024-11-23T15:50:38.828435Z",
     "iopub.status.idle": "2024-11-23T15:50:39.060505Z",
     "shell.execute_reply": "2024-11-23T15:50:39.059387Z"
    },
    "papermill": {
     "duration": 0.268593,
     "end_time": "2024-11-23T15:50:39.062737",
     "exception": false,
     "start_time": "2024-11-23T15:50:38.794144",
     "status": "completed"
    },
    "tags": []
   },
   "outputs": [
    {
     "data": {
      "image/png": "[encoded data removed]",
      "text/plain": [
       "<Figure size 640x480 with 1 Axes>"
      ]
     },
     "metadata": {},
     "output_type": "display_data"
    }
   ],
   "source": [
    "q1_2 = df['est_diameter_max'].quantile(0.25)\n",
    "q3_2 = df['est_diameter_max'].quantile(0.75)\n",
    "iqr2 = q3_2 - q1_2\n",
    "\n",
    "lower_bound2 = q1_1 - 1.5 * iqr2\n",
    "upper_bound2 = q3_1 + 1.5 * iqr2\n",
    "\n",
    "outliers2 = df[(df['est_diameter_max'] < lower_bound2) | (df['est_diameter_max'] > upper_bound2)]\n",
    "\n",
    "plt.scatter(outliers2.index, outliers2['est_diameter_max'],label=\"Outliers\")  \n",
    "plt.show()"
   ]
  },
  {
   "cell_type": "markdown",
   "id": "d5855773",
   "metadata": {
    "papermill": {
     "duration": 0.039374,
     "end_time": "2024-11-23T15:50:39.138279",
     "exception": false,
     "start_time": "2024-11-23T15:50:39.098905",
     "status": "completed"
    },
    "tags": []
   },
   "source": [
    "**relative_velocity:**"
   ]
  },
  {
   "cell_type": "code",
   "execution_count": 80,
   "id": "da17169e",
   "metadata": {
    "execution": {
     "iopub.execute_input": "2024-11-23T15:50:39.236626Z",
     "iopub.status.busy": "2024-11-23T15:50:39.236001Z",
     "iopub.status.idle": "2024-11-23T15:50:39.430585Z",
     "shell.execute_reply": "2024-11-23T15:50:39.429410Z"
    },
    "papermill": {
     "duration": 0.243689,
     "end_time": "2024-11-23T15:50:39.433095",
     "exception": false,
     "start_time": "2024-11-23T15:50:39.189406",
     "status": "completed"
    },
    "tags": []
   },
   "outputs": [
    {
     "data": {
      "image/png": "[encoded data removed]",
      "text/plain": [
       "<Figure size 640x480 with 1 Axes>"
      ]
     },
     "metadata": {},
     "output_type": "display_data"
    }
   ],
   "source": [
    "sns.boxplot(df['relative_velocity']);"
   ]
  },
  {
   "cell_type": "code",
   "execution_count": 81,
   "id": "8bf6d831",
   "metadata": {
    "execution": {
     "iopub.execute_input": "2024-11-23T15:50:39.503543Z",
     "iopub.status.busy": "2024-11-23T15:50:39.502418Z",
     "iopub.status.idle": "2024-11-23T15:50:39.690094Z",
     "shell.execute_reply": "2024-11-23T15:50:39.688950Z"
    },
    "papermill": {
     "duration": 0.224725,
     "end_time": "2024-11-23T15:50:39.692408",
     "exception": false,
     "start_time": "2024-11-23T15:50:39.467683",
     "status": "completed"
    },
    "tags": []
   },
   "outputs": [
    {
     "data": {
      "image/png": "[encoded data removed]",
      "text/plain": [
       "<Figure size 640x480 with 1 Axes>"
      ]
     },
     "metadata": {},
     "output_type": "display_data"
    }
   ],
   "source": [
    "sns.boxplot(df['relative_velocity'],showfliers=False);"
   ]
  },
  {
   "cell_type": "code",
   "execution_count": 82,
   "id": "c019f791",
   "metadata": {
    "execution": {
     "iopub.execute_input": "2024-11-23T15:50:39.762809Z",
     "iopub.status.busy": "2024-11-23T15:50:39.762411Z",
     "iopub.status.idle": "2024-11-23T15:50:39.980869Z",
     "shell.execute_reply": "2024-11-23T15:50:39.979727Z"
    },
    "papermill": {
     "duration": 0.256793,
     "end_time": "2024-11-23T15:50:39.983284",
     "exception": false,
     "start_time": "2024-11-23T15:50:39.726491",
     "status": "completed"
    },
    "tags": []
   },
   "outputs": [
    {
     "data": {
      "image/png": "[encoded data removed]",
      "text/plain": [
       "<Figure size 640x480 with 1 Axes>"
      ]
     },
     "metadata": {},
     "output_type": "display_data"
    }
   ],
   "source": [
    "q1_3 = df['relative_velocity'].quantile(0.25)\n",
    "q3_3 = df['relative_velocity'].quantile(0.75)\n",
    "iqr3 = q3_3 - q1_3\n",
    "\n",
    "lower_bound3 = q1_3 - 1.5 * iqr3\n",
    "upper_bound3 = q3_3 + 1.5 * iqr3\n",
    "\n",
    "outliers3 = df[(df['relative_velocity'] < lower_bound3) | (df['relative_velocity'] > upper_bound3)]\n",
    "\n",
    "plt.scatter(outliers3.index, outliers3['relative_velocity'],label=\"Outliers\")  \n",
    "plt.show()"
   ]
  },
  {
   "cell_type": "markdown",
   "id": "ec7421c4",
   "metadata": {
    "papermill": {
     "duration": 0.03639,
     "end_time": "2024-11-23T15:50:40.057606",
     "exception": false,
     "start_time": "2024-11-23T15:50:40.021216",
     "status": "completed"
    },
    "tags": []
   },
   "source": [
    "**miss_distance:**"
   ]
  },
  {
   "cell_type": "code",
   "execution_count": 83,
   "id": "43d1f77a",
   "metadata": {
    "execution": {
     "iopub.execute_input": "2024-11-23T15:50:40.131574Z",
     "iopub.status.busy": "2024-11-23T15:50:40.130604Z",
     "iopub.status.idle": "2024-11-23T15:50:40.330335Z",
     "shell.execute_reply": "2024-11-23T15:50:40.329171Z"
    },
    "papermill": {
     "duration": 0.237833,
     "end_time": "2024-11-23T15:50:40.332543",
     "exception": false,
     "start_time": "2024-11-23T15:50:40.094710",
     "status": "completed"
    },
    "tags": []
   },
   "outputs": [
    {
     "data": {
      "image/png": "[encoded data removed]",
      "text/plain": [
       "<Figure size 640x480 with 1 Axes>"
      ]
     },
     "metadata": {},
     "output_type": "display_data"
    }
   ],
   "source": [
    "sns.boxplot(df['miss_distance']);"
   ]
  },
  {
   "cell_type": "code",
   "execution_count": 84,
   "id": "45fe1021",
   "metadata": {
    "execution": {
     "iopub.execute_input": "2024-11-23T15:50:40.404103Z",
     "iopub.status.busy": "2024-11-23T15:50:40.403668Z",
     "iopub.status.idle": "2024-11-23T15:50:40.597558Z",
     "shell.execute_reply": "2024-11-23T15:50:40.596375Z"
    },
    "papermill": {
     "duration": 0.232678,
     "end_time": "2024-11-23T15:50:40.599928",
     "exception": false,
     "start_time": "2024-11-23T15:50:40.367250",
     "status": "completed"
    },
    "tags": []
   },
   "outputs": [
    {
     "data": {
      "image/png": "[encoded data removed]",
      "text/plain": [
       "<Figure size 640x480 with 1 Axes>"
      ]
     },
     "metadata": {},
     "output_type": "display_data"
    }
   ],
   "source": [
    "q1_4 = df['miss_distance'].quantile(0.25)\n",
    "q3_4 = df['miss_distance'].quantile(0.75)\n",
    "iqr4 = q3_4 - q1_4\n",
    "\n",
    "lower_bound4 = q1_4 - 1.5 * iqr4\n",
    "upper_bound4 = q3_4 + 1.5 * iqr4\n",
    "\n",
    "outliers4 = df[(df['miss_distance'] < lower_bound4) | (df['miss_distance'] > upper_bound4)]\n",
    "\n",
    "plt.scatter(outliers4.index, outliers4['miss_distance'],label=\"Outliers\")  \n",
    "plt.show()"
   ]
  },
  {
   "cell_type": "code",
   "execution_count": 85,
   "id": "1f554f16",
   "metadata": {
    "execution": {
     "iopub.execute_input": "2024-11-23T15:50:40.673289Z",
     "iopub.status.busy": "2024-11-23T15:50:40.672895Z",
     "iopub.status.idle": "2024-11-23T15:50:40.678807Z",
     "shell.execute_reply": "2024-11-23T15:50:40.677661Z"
    },
    "papermill": {
     "duration": 0.044936,
     "end_time": "2024-11-23T15:50:40.680962",
     "exception": false,
     "start_time": "2024-11-23T15:50:40.636026",
     "status": "completed"
    },
    "tags": []
   },
   "outputs": [
    {
     "name": "stdout",
     "output_type": "stream",
     "text": [
      "Aykırı değer sayısı: 0\n"
     ]
    }
   ],
   "source": [
    "#Hata mı aldığımızı yoksa aykırı değer bulunmadığı için mi grafiğin boş olduğunu kontrol edelim.\n",
    "print(\"Aykırı değer sayısı:\",outliers4.shape[0])"
   ]
  },
  {
   "cell_type": "markdown",
   "id": "c9df04f2",
   "metadata": {
    "papermill": {
     "duration": 0.034901,
     "end_time": "2024-11-23T15:50:40.751602",
     "exception": false,
     "start_time": "2024-11-23T15:50:40.716701",
     "status": "completed"
    },
    "tags": []
   },
   "source": [
    "Bu sütun için aykırı değerimiz yokmuş"
   ]
  },
  {
   "cell_type": "markdown",
   "id": "20a12fe2",
   "metadata": {
    "papermill": {
     "duration": 0.035056,
     "end_time": "2024-11-23T15:50:40.823124",
     "exception": false,
     "start_time": "2024-11-23T15:50:40.788068",
     "status": "completed"
    },
    "tags": []
   },
   "source": [
    "**absolute_magnitude:**"
   ]
  },
  {
   "cell_type": "code",
   "execution_count": 86,
   "id": "3f877d5b",
   "metadata": {
    "execution": {
     "iopub.execute_input": "2024-11-23T15:50:40.895990Z",
     "iopub.status.busy": "2024-11-23T15:50:40.895582Z",
     "iopub.status.idle": "2024-11-23T15:50:41.076688Z",
     "shell.execute_reply": "2024-11-23T15:50:41.075578Z"
    },
    "papermill": {
     "duration": 0.220188,
     "end_time": "2024-11-23T15:50:41.078962",
     "exception": false,
     "start_time": "2024-11-23T15:50:40.858774",
     "status": "completed"
    },
    "tags": []
   },
   "outputs": [
    {
     "data": {
      "image/png": "[encoded data removed]",
      "text/plain": [
       "<Figure size 640x480 with 1 Axes>"
      ]
     },
     "metadata": {},
     "output_type": "display_data"
    }
   ],
   "source": [
    "sns.boxplot(df['absolute_magnitude']);"
   ]
  },
  {
   "cell_type": "code",
   "execution_count": 87,
   "id": "b4624da5",
   "metadata": {
    "execution": {
     "iopub.execute_input": "2024-11-23T15:50:41.154084Z",
     "iopub.status.busy": "2024-11-23T15:50:41.153685Z",
     "iopub.status.idle": "2024-11-23T15:50:41.343124Z",
     "shell.execute_reply": "2024-11-23T15:50:41.342031Z"
    },
    "papermill": {
     "duration": 0.22921,
     "end_time": "2024-11-23T15:50:41.345447",
     "exception": false,
     "start_time": "2024-11-23T15:50:41.116237",
     "status": "completed"
    },
    "tags": []
   },
   "outputs": [
    {
     "data": {
      "image/png": "[encoded data removed]",
      "text/plain": [
       "<Figure size 640x480 with 1 Axes>"
      ]
     },
     "metadata": {},
     "output_type": "display_data"
    }
   ],
   "source": [
    "sns.boxplot(df['absolute_magnitude'],showfliers=False);"
   ]
  },
  {
   "cell_type": "code",
   "execution_count": 88,
   "id": "dc9d08d9",
   "metadata": {
    "execution": {
     "iopub.execute_input": "2024-11-23T15:50:41.418469Z",
     "iopub.status.busy": "2024-11-23T15:50:41.417924Z",
     "iopub.status.idle": "2024-11-23T15:50:41.619189Z",
     "shell.execute_reply": "2024-11-23T15:50:41.618023Z"
    },
    "papermill": {
     "duration": 0.240474,
     "end_time": "2024-11-23T15:50:41.621572",
     "exception": false,
     "start_time": "2024-11-23T15:50:41.381098",
     "status": "completed"
    },
    "tags": []
   },
   "outputs": [
    {
     "data": {
      "image/png": "[encoded data removed]",
      "text/plain": [
       "<Figure size 640x480 with 1 Axes>"
      ]
     },
     "metadata": {},
     "output_type": "display_data"
    }
   ],
   "source": [
    "q1_5 = df['absolute_magnitude'].quantile(0.25)\n",
    "q3_5 = df['absolute_magnitude'].quantile(0.75)\n",
    "iqr5 = q3_5 - q1_5\n",
    "\n",
    "lower_bound5 = q1_5 - 1.5 * iqr5\n",
    "upper_bound5 = q3_5 + 1.5 * iqr5\n",
    "\n",
    "outliers5 = df[(df['absolute_magnitude'] < lower_bound5) | (df['absolute_magnitude'] > upper_bound5)]\n",
    "\n",
    "plt.scatter(outliers5.index, outliers5['absolute_magnitude'],label=\"Outliers\")  \n",
    "plt.show()"
   ]
  },
  {
   "cell_type": "code",
   "execution_count": null,
   "id": "87a90c7e",
   "metadata": {
    "papermill": {
     "duration": 0.036705,
     "end_time": "2024-11-23T15:50:41.695010",
     "exception": false,
     "start_time": "2024-11-23T15:50:41.658305",
     "status": "completed"
    },
    "tags": []
   },
   "outputs": [],
   "source": []
  }
 ],
 "metadata": {
  "kaggle": {
   "accelerator": "none",
   "dataSources": [
    {
     "datasetId": 2272878,
     "sourceId": 3816674,
     "sourceType": "datasetVersion"
    }
   ],
   "dockerImageVersionId": 30786,
   "isGpuEnabled": false,
   "isInternetEnabled": false,
   "language": "python",
   "sourceType": "notebook"
  },
  "kernelspec": {
   "display_name": "Python 3",
   "language": "python",
   "name": "python3"
  },
  "language_info": {
   "codemirror_mode": {
    "name": "ipython",
    "version": 3
   },
   "file_extension": ".py",
   "mimetype": "text/x-python",
   "name": "python",
   "nbconvert_exporter": "python",
   "pygments_lexer": "ipython3",
   "version": "3.10.14"
  },
  "papermill": {
   "default_parameters": {},
   "duration": 23.532467,
   "end_time": "2024-11-23T15:50:42.454898",
   "environment_variables": {},
   "exception": null,
   "input_path": "__notebook__.ipynb",
   "output_path": "__notebook__.ipynb",
   "parameters": {},
   "start_time": "2024-11-23T15:50:18.922431",
   "version": "2.6.0"
  }
 },
 "nbformat": 4,
 "nbformat_minor": 5
}
